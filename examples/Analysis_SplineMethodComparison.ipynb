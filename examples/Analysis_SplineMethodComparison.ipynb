{
 "cells": [
  {
   "cell_type": "code",
   "execution_count": 1,
   "metadata": {},
   "outputs": [],
   "source": [
    "%load_ext autoreload\n",
    "%autoreload 2"
   ]
  },
  {
   "cell_type": "markdown",
   "metadata": {},
   "source": [
    "# Method comparison of us and ucss\n",
    "In previous studies, our group used the `CSAPS` function from MATLAB, which implements a cubic smoothing spline based on an algorithm by Carl de Boor ([A Practical Guide to Splines, 1978](https://www.springer.com/de/book/9780387953663)).\n",
    "\n",
    "The first `bletl_analysis` port of this method for growth rate calculation used `scipy.interpolate.UnivariateSpline` (`us`), which uses a different algorithm with subtle, but important differences.  With version `bletl_analysis >= 1.0.0`, we've switched to the `UnivariateCubicSmoothingSpline` (`ucss`) from the [`csaps`](https://github.com/espdev/csaps) package. It implement a Python port of the same spline algorithm used in MATLAB.\n",
    "\n",
    "Both algorithms have their advantages/disadvantages. This notebook aims to show where they differ and how the automatic selection of smoothing factors works."
   ]
  },
  {
   "cell_type": "code",
   "execution_count": 2,
   "metadata": {},
   "outputs": [],
   "source": [
    "import ipywidgets\n",
    "import numpy\n",
    "import pandas\n",
    "import pathlib\n",
    "import logging\n",
    "import matplotlib.cm\n",
    "from matplotlib import pyplot\n",
    "import scipy\n",
    "import scipy.stats\n",
    "import csaps\n",
    "\n",
    "import bletl\n",
    "import bletl_pro\n",
    "import bletl_analysis\n",
    "\n",
    "logging.basicConfig(level=logging.DEBUG) # format='%(levelname)s:%(message)s', \n",
    "logging.getLogger('matplotlib').setLevel(logging.WARNING)"
   ]
  },
  {
   "cell_type": "markdown",
   "metadata": {},
   "source": [
    "### Parse the raw data file"
   ]
  },
  {
   "cell_type": "code",
   "execution_count": 3,
   "metadata": {},
   "outputs": [],
   "source": [
    "filepath = pathlib.Path(r'..\\bletl_analysis\\tests\\data\\107-AR_Coryne-AR-2019-04-15-12-39-30.csv')\n",
    "bldata = bletl.parse(filepath, lot_number=1515, temp=30)"
   ]
  },
  {
   "cell_type": "markdown",
   "metadata": {},
   "source": [
    "### Plot the data\n",
    "Now we can visualize the us and ucss. The first subplot shows the splines and the datapoints. The second one shows the derivatives.\n",
    "\n",
    "If filterset 'BS3' is selected the function `get_mue` from bletl_analysis is used to calculate specific growth rates shown in the third subplot.\n"
   ]
  },
  {
   "cell_type": "code",
   "execution_count": 4,
   "metadata": {
    "scrolled": false
   },
   "outputs": [
    {
     "data": {
      "application/vnd.jupyter.widget-view+json": {
       "model_id": "4c54fc184acb464ca015337d3c071d28",
       "version_major": 2,
       "version_minor": 0
      },
      "text/plain": [
       "interactive(children=(Dropdown(description='well', options=('A01', 'A02', 'A03', 'A04', 'A05', 'A06', 'A07', '…"
      ]
     },
     "metadata": {},
     "output_type": "display_data"
    }
   ],
   "source": [
    "def plot_well(well:str, filterset:str, last_cycle:int=None):\n",
    "    t, y = bldata[filterset].get_timeseries(well)\n",
    "    tmax = t[-1]\n",
    "    cmax = len(t)\n",
    "    t = t[:last_cycle]\n",
    "    y = y[:last_cycle]\n",
    "\n",
    "    # get splines\n",
    "    spline_us = bletl_analysis.get_crossvalidated_spline(t, y, method=\"us\", k_folds=10)\n",
    "    spline_ucss = bletl_analysis.get_crossvalidated_spline(t, y, method=\"ucss\", k_folds=10)\n",
    "    \n",
    "    # derivative functions\n",
    "    der_us = spline_us.derivative(1)\n",
    "    der_ucss = spline_ucss.derivative(1)\n",
    "    \n",
    "    # plotting\n",
    "    if filterset == 'BS3':\n",
    "        fig, (up, middle, down) = pyplot.subplots(dpi=140, nrows=3, sharex='col', figsize=(12,14))\n",
    "    else:\n",
    "        fig, (up, middle) = pyplot.subplots(dpi=140, nrows=2, sharex='col', figsize=(12,14/3*2))\n",
    "        \n",
    "    # highly resolved time values\n",
    "    x = numpy.linspace(0, t[-1], 1000)\n",
    "        \n",
    "    up.scatter(t, y, marker='x', label='data')\n",
    "    up.plot(x, spline_us(x), label='us', color='orange')\n",
    "    up.plot(x, spline_ucss(x), label='ucss', color='blue')\n",
    "    up.set_ylabel(filterset)\n",
    "    \n",
    "    middle.axhline(0, color='gray', linewidth=1, linestyle=':')\n",
    "    middle.plot(x, der_us(x), label='ucss derivative', color='orange')\n",
    "    middle.plot(x, der_ucss(x), label='us derivative', color='blue')\n",
    "    middle.set_ylabel('derivative')\n",
    "    \n",
    "    # calculates get_mue only for filterset BS20\n",
    "    if filterset == 'BS3':    \n",
    "        # us\n",
    "        mue_us = bletl_analysis.get_mue(bldata[filterset], wells=[well], method='us', last_cycle=last_cycle)\n",
    "        df_mue_us = mue_us.get_unified_dataframe()\n",
    "        df_mue_us.reset_index(inplace=True)\n",
    "        us_value = numpy.array(df_mue_us[well], dtype=pandas.Series)\n",
    "        \n",
    "        # ucss\n",
    "        mue_ucss = bletl_analysis.get_mue(bldata[filterset], wells=[well], method='ucss', last_cycle=last_cycle)\n",
    "        df_mue_ucss = mue_ucss.get_unified_dataframe()\n",
    "        df_mue_ucss.reset_index(inplace=True)\n",
    "        ucss_value = numpy.array(df_mue_ucss[well], dtype=pandas.Series)\n",
    "        \n",
    "        # plot\n",
    "        down.axhline(0, color='gray', linewidth=1, linestyle=':')\n",
    "        time = numpy.array(df_mue_us[\"time in h\"], dtype=pandas.Series)\n",
    "        down.plot(time, us_value, label='US derivative', color='orange')\n",
    "        down.plot(time, ucss_value, label='UCSS derivative', color='blue')\n",
    "        down.set_xlabel('time   [h]')\n",
    "        down.set_ylabel('specific growth rate   [1/h]')\n",
    "        down.set_ylim(-0.5, 1)\n",
    "    else:\n",
    "        middle.set_xlabel('time   [h]')\n",
    "    \n",
    "    up.legend()\n",
    "    # add second x-axis showing cycle numbers at the top\n",
    "    x2 = up.twiny()\n",
    "    x2.set_xlabel('cycle number   [-]')\n",
    "    x2.set_xlim(0, cmax)\n",
    "    up.set_xlim(0, tmax)\n",
    "    pyplot.show()\n",
    "    return\n",
    "\n",
    "ipywidgets.interact(\n",
    "    plot_well,\n",
    "    well=list(bldata['pH'].time.columns),\n",
    "    filterset=list(bldata.keys()),\n",
    "    last_cycle=range(10, len(bldata['pH'].time)+1)\n",
    ");"
   ]
  },
  {
   "cell_type": "markdown",
   "metadata": {},
   "source": [
    "The interactive plot above shows that the `UnivariateCubicSmoothingSpline`  (ucss) has generally more wiggles in the approximation.\n",
    "\n",
    "The `UnivariateSpline` however often has extreme derivates at the end of the curve. For example when `filterset=BS3, last_cycle=64` (a few cycles after a DO-peak), the `us` method has a strong fluctuation at the end, where the `ucss` is more stable.\n",
    "\n",
    "These differences are due to the different regularization strategies of both algorithms:\n",
    "* `us` regularizes the number of knots:\n",
    "  * (+) it leads to long stretches of smooth approximations\n",
    "  * (-) the ends become very instable\n",
    "* `ucss` regularizes the weight of different basis functions, while keeping the same number of knots\n",
    "  * (+) ends are very stable\n",
    "  * (-) wavy derivatives due to the many knots\n",
    "  \n",
    "  \n",
    "### Crossvalidation of Smoothing Parameters\n",
    "We have implemented a normalization of the algorithms smoothing parameters, such that they only have to be chosen in the interval $[0,1]$. This way, we can visualize the crossvalidation error against the smoothing parameter to understand how it can be chosen automatically."
   ]
  },
  {
   "cell_type": "code",
   "execution_count": 5,
   "metadata": {
    "scrolled": false
   },
   "outputs": [
    {
     "data": {
      "application/vnd.jupyter.widget-view+json": {
       "model_id": "e0a9fe01c4ff410e805b132516e61637",
       "version_major": 2,
       "version_minor": 0
      },
      "text/plain": [
       "interactive(children=(Dropdown(description='filterset', options=('BS3', 'pH', 'DO'), value='BS3'), FloatSlider…"
      ]
     },
     "metadata": {},
     "output_type": "display_data"
    }
   ],
   "source": [
    "def crossvalidation_with_noise(filterset:str='BS3', noise:float=0.0):\n",
    "    t, y = bldata[filterset].get_timeseries('C04')\n",
    "\n",
    "    y = numpy.random.normal(y, scale=(y.max()-y.min())*noise)\n",
    "\n",
    "    S = numpy.exp(numpy.linspace(-6, 0, 100))\n",
    "    R_us = [\n",
    "        bletl_analysis._evaluate_smoothing_factor([s], t, y, k=10, method='us')\n",
    "        for s in S\n",
    "    ]\n",
    "    R_ucss = [\n",
    "        bletl_analysis._evaluate_smoothing_factor([s], t, y, k=10, method='ucss')\n",
    "        for s in S\n",
    "    ]\n",
    "    \n",
    "    opt_us = S[numpy.argmin(R_us)]\n",
    "    opt_ucss = S[numpy.argmin(R_ucss)]\n",
    "    s_opt_us = bletl_analysis._normalize_smoothing_factor('us', opt_us, t, y)\n",
    "    s_opt_ucss = bletl_analysis._normalize_smoothing_factor('ucss', opt_ucss, t, y)\n",
    "\n",
    "\n",
    "    # plot residual vs. normalized smoothing factor\n",
    "    fig, (left, right) = pyplot.subplots(ncols=2, figsize=(12,6), dpi=120)\n",
    "\n",
    "    left.plot(S, R_us, label='us', color='orange')\n",
    "    left.plot(S, R_ucss, label='ucss', color='blue')\n",
    "\n",
    "    left.axvline(S[numpy.argmin(R_us)], label=f'opt us ({opt_us:.4f})', color='orange', linestyle='--')\n",
    "    left.axvline(S[numpy.argmin(R_ucss)], label=f'opt ucss ({opt_ucss:.4f})', color='blue', linestyle='--')\n",
    "    left.set_yscale('log')\n",
    "    left.legend()\n",
    "\n",
    "    left.set_xlabel('normalized smoothing factor')\n",
    "    left.set_ylabel('10-fold crossvalidation error')\n",
    "    left.set_title(f'filterset={filterset}, noise={noise*100:.0f} %')\n",
    "    left.set_xscale('log')\n",
    "    \n",
    "    s_us = scipy.interpolate.UnivariateSpline(t, y, s=s_opt_us)\n",
    "    s_ucss = bletl_analysis.UnivariateCubicSmoothingSpline(t, y, smooth=s_opt_ucss)\n",
    "\n",
    "    x = numpy.linspace(0,20,1000)\n",
    "    right.scatter(t, y, s=15, color='gray')\n",
    "    right.plot(x, s_us(x), color='orange')\n",
    "    right.plot(x, s_ucss(x), color='blue')\n",
    "    right.set_xlabel('time   [h]')\n",
    "    right.set_ylabel(filterset)\n",
    "    right.set_title(f'fit with crossvalidated smoothing factor')\n",
    "\n",
    "    pyplot.show()\n",
    "    \n",
    "ipywidgets.interact_manual(\n",
    "    crossvalidation_with_noise,\n",
    "    filterset=list(bldata.keys()),\n",
    "    noise=ipywidgets.FloatSlider(min=0, max=0.1, step=0.01)\n",
    ");"
   ]
  },
  {
   "cell_type": "markdown",
   "metadata": {},
   "source": [
    "By increasing the relative noise in the interactive plot above, you can see how the dependency of the crossvalidation error on the smoothing factor becomes more convex.\n",
    "\n",
    "One interpretation of this is, that when there's almost no noise, the linear interpolation is locally the best interpolation. Unfortunately, this goes hand in hand with unstable derivatives at the end of the approximation.\n",
    "\n",
    "In the next plot, you can explore how the crossvalidation outperforms the conservatively set upper bound."
   ]
  },
  {
   "cell_type": "code",
   "execution_count": 6,
   "metadata": {},
   "outputs": [
    {
     "data": {
      "application/vnd.jupyter.widget-view+json": {
       "model_id": "7ad17ec00d0645b9a8e44323cb49f818",
       "version_major": 2,
       "version_minor": 0
      },
      "text/plain": [
       "interactive(children=(FloatSlider(value=0.0, description='noise', max=0.1, step=0.01), Button(description='Run…"
      ]
     },
     "metadata": {},
     "output_type": "display_data"
    }
   ],
   "source": [
    "def test_exponential(noise=0):\n",
    "    mue = 0.352\n",
    "    y0 = 0.05\n",
    "    t = numpy.linspace(0, 20, 50)\n",
    "    y = y0 * numpy.exp(mue*t)\n",
    "    y = numpy.random.normal(y, scale=noise*numpy.max(y))\n",
    "\n",
    "    spline_us = bletl_analysis.get_crossvalidated_spline(t, y, method='us')\n",
    "    spline_ucss = bletl_analysis.get_crossvalidated_spline(t, y, method='ucss')\n",
    "\n",
    "    s = bletl_analysis._normalize_smoothing_factor('us', 1, t, y)\n",
    "    manual = scipy.interpolate.UnivariateSpline(t, y, s=s)\n",
    "\n",
    "    actual_sse = numpy.square(manual(t) - y).sum()\n",
    "\n",
    "    print(f's={s} resulted in sse={actual_sse}')\n",
    "    \n",
    "    fig, (left, right) = pyplot.subplots(ncols=2, figsize=(14,6), dpi=120)\n",
    "    \n",
    "    left.scatter(t, y)\n",
    "    x = numpy.linspace(t[1], 20, 1000)\n",
    "    \n",
    "    for spline, name, color in zip(\n",
    "            [spline_us, spline_ucss, manual],\n",
    "            ['US+CV', 'UCSS+CV', 'US default'],\n",
    "            ['orange', 'blue', 'green']\n",
    "        ):\n",
    "        left.plot(x, spline(x), label=name, color=color)\n",
    "        growthrate = spline.derivative(1)(x) / spline(x)\n",
    "        right.plot(x, growthrate, color=color, label=f'{name}: {numpy.median(growthrate):.3f}')\n",
    "    \n",
    "    left.set_xlabel('time')\n",
    "    left.set_ylabel('value')\n",
    "    left.legend()\n",
    "    right.set_xlabel('time')\n",
    "    right.set_ylabel('specific growth rate')\n",
    "    right.set_ylim(-10,10)\n",
    "    right.legend()\n",
    "    \n",
    "    pyplot.show()\n",
    "    \n",
    "ipywidgets.interact_manual(\n",
    "    test_exponential,\n",
    "    noise=ipywidgets.FloatSlider(min=0, max=0.1, step=0.01)\n",
    ");"
   ]
  },
  {
   "cell_type": "code",
   "execution_count": null,
   "metadata": {},
   "outputs": [],
   "source": []
  }
 ],
 "metadata": {
  "kernelspec": {
   "display_name": "Python 3",
   "language": "python",
   "name": "python3"
  },
  "language_info": {
   "codemirror_mode": {
    "name": "ipython",
    "version": 3
   },
   "file_extension": ".py",
   "mimetype": "text/x-python",
   "name": "python",
   "nbconvert_exporter": "python",
   "pygments_lexer": "ipython3",
   "version": "3.6.8"
  }
 },
 "nbformat": 4,
 "nbformat_minor": 2
}
