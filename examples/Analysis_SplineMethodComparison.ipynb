{
 "cells": [
  {
   "cell_type": "code",
   "execution_count": 6,
   "metadata": {},
   "outputs": [
    {
     "name": "stdout",
     "output_type": "stream",
     "text": [
      "The autoreload extension is already loaded. To reload it, use:\n",
      "  %reload_ext autoreload\n"
     ]
    }
   ],
   "source": [
    "%load_ext autoreload\n",
    "%autoreload 2"
   ]
  },
  {
   "cell_type": "markdown",
   "metadata": {},
   "source": [
    "# Method comparison of us and ucss\n",
    "us: UniversalSpline from scipy\n",
    "\n",
    "uccs: UnivariateCubicSmoothingSpline from csaps"
   ]
  },
  {
   "cell_type": "code",
   "execution_count": 7,
   "metadata": {},
   "outputs": [],
   "source": [
    "import ipywidgets\n",
    "import numpy\n",
    "import pandas\n",
    "import pathlib\n",
    "import matplotlib.cm\n",
    "from matplotlib import pyplot\n",
    "import scipy\n",
    "import csaps\n",
    "\n",
    "import bletl\n",
    "import bletl_analysis"
   ]
  },
  {
   "cell_type": "markdown",
   "metadata": {},
   "source": [
    "### Parse the raw data file"
   ]
  },
  {
   "cell_type": "code",
   "execution_count": 8,
   "metadata": {},
   "outputs": [],
   "source": [
    "filepath = pathlib.Path(r'..\\bletl\\tests\\data\\BL1\\NT_1400_BS20BS10_15min_20160222_151645.csv')   \n",
    "bldata = bletl.parse(filepath, lot_number=1515, temp=30)"
   ]
  },
  {
   "cell_type": "markdown",
   "metadata": {},
   "source": [
    "### Plot the data\n",
    "Now we can visualize the us and ucss. The first subplot shows the splines and the datapoints. The second one shows the derivatives.\n",
    "If filterset 'BS20' is selected the function 'get_mue' from bletl_analysis is calculated in a third subplot.\n"
   ]
  },
  {
   "cell_type": "code",
   "execution_count": 12,
   "metadata": {
    "scrolled": true
   },
   "outputs": [
    {
     "data": {
      "application/vnd.jupyter.widget-view+json": {
       "model_id": "f841a90d1cb34a53bb8134a9362329a5",
       "version_major": 2,
       "version_minor": 0
      },
      "text/plain": [
       "interactive(children=(Dropdown(description='well', options=('A01', 'A02', 'A03', 'A04', 'A05', 'A06', 'A07', '…"
      ]
     },
     "metadata": {},
     "output_type": "display_data"
    }
   ],
   "source": [
    "def plot_well(well:str, filterset:str, last_cycle:int=None):\n",
    "    x, y = bldata[filterset].get_timeseries(well)\n",
    "    x = x[:last_cycle]\n",
    "    y = y[:last_cycle]\n",
    "\n",
    "    #get spline us\n",
    "    spline_us = bletl_analysis.get_crossvalidate_spline(x, y, method=\"us\")\n",
    "    sp_y_us = spline_us(x)\n",
    "    \n",
    "    #get spline ucss\n",
    "    spline_ucss = bletl_analysis.get_crossvalidate_spline(x, y, method=\"ucss\")\n",
    "    sp_y_ucss = spline_ucss(x)\n",
    "    \n",
    "    #derivative us\n",
    "    func_us = spline_us.derivative(1)\n",
    "    us_val = func_us(x)\n",
    "\n",
    "    #derivative ucss\n",
    "    func_ucss = spline_ucss.derivative(1)\n",
    "    ucss_val = func_ucss(x)\n",
    "    \n",
    "    #plotting\n",
    "    fig, (up, middle, down) = pyplot.subplots(dpi=140, nrows=3, sharex='col', figsize=(12,14))\n",
    "    up.scatter(x, y, s=.4, label='data')\n",
    "    up.plot(x, spline_ucss(x), label='ucss', linewidth=0.5)\n",
    "    up.plot(x, spline_us(x), label='us', linewidth=0.5)\n",
    "    \n",
    "    middle.axhline(0, color='gray', linewidth=1, linestyle=':')\n",
    "    middle.plot(x, ucss_val, label='ucss derivative')\n",
    "    middle.plot(x, us_val, label='us derivative')\n",
    "    \n",
    "    #calculates get_mue only for filterset BS20\n",
    "    if filterset == 'BS20':    \n",
    "        #get_mue us\n",
    "        mue_us = bletl_analysis.get_mue(bldata[filterset],wells=[well], method=\"us\", last_cycle=last_cycle)\n",
    "        df_mue_us = mue_us.get_unified_dataframe()\n",
    "        df_mue_us.reset_index(inplace=True)\n",
    "        us_value = numpy.array(df_mue_us[well], dtype=pandas.Series)\n",
    "        time = numpy.array(df_mue_us[\"time in h\"], dtype=pandas.Series)\n",
    "\n",
    "        #get_mue ucss\n",
    "        mue_ucss = bletl_analysis.get_mue(bldata[filterset],wells=[well], method=\"ucss\", last_cycle=last_cycle)\n",
    "        df_mue_ucss = mue_ucss.get_unified_dataframe()\n",
    "        df_mue_ucss.reset_index(inplace=True)\n",
    "        ucss_value = numpy.array(df_mue_ucss[well], dtype=pandas.Series)\n",
    "        \n",
    "        #plot\n",
    "        down.axhline(0, color='gray', linewidth=1, linestyle=':')\n",
    "        down.plot(time, ucss_value, label='UCSS derivative')\n",
    "        down.plot(time, us_value, label='US derivative')\n",
    "        down.set_xlabel('time   [h]')\n",
    "        down.set_ylabel('get_mue')\n",
    "        down.set_ylim(-0.5, 1)\n",
    "    else:\n",
    "        down.set_visible(False)\n",
    "    \n",
    "    #formatting\n",
    "    middle.set_ylabel('derivative')\n",
    "    up.set_ylabel(filterset)\n",
    "    up.legend()\n",
    "\n",
    "    pyplot.show()\n",
    "    return\n",
    "\n",
    "ipywidgets.interact(\n",
    "    plot_well,\n",
    "    well=list(bldata['pH'].time.columns),\n",
    "    filterset=list(bldata.keys()),\n",
    "    last_cycle=range(10, len(bldata['pH'].time)+1)\n",
    ");"
   ]
  },
  {
   "cell_type": "code",
   "execution_count": null,
   "metadata": {},
   "outputs": [],
   "source": []
  }
 ],
 "metadata": {
  "kernelspec": {
   "display_name": "Python 3",
   "language": "python",
   "name": "python3"
  },
  "language_info": {
   "codemirror_mode": {
    "name": "ipython",
    "version": 3
   },
   "file_extension": ".py",
   "mimetype": "text/x-python",
   "name": "python",
   "nbconvert_exporter": "python",
   "pygments_lexer": "ipython3",
   "version": "3.7.3"
  }
 },
 "nbformat": 4,
 "nbformat_minor": 2
}
