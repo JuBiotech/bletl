{
 "cells": [
  {
   "cell_type": "markdown",
   "metadata": {},
   "source": [
    "# Quickstart: Parsing and Plotting\n",
    "This example shows the most basic steps to get from a raw BioLector data file to an interactive visualization."
   ]
  },
  {
   "cell_type": "code",
   "execution_count": 1,
   "metadata": {},
   "outputs": [],
   "source": [
    "import pandas\n",
    "import ipywidgets\n",
    "from matplotlib import pyplot, cm\n",
    "\n",
    "import bletl\n",
    "# To get support for parsing BioLector II/Pro files, you just need\n",
    "# to import the `bletl_pro` package. It functions as a parser plugin.\n",
    "import bletl_pro\n",
    "\n",
    "import bletl_analysis"
   ]
  },
  {
   "cell_type": "markdown",
   "metadata": {},
   "source": [
    "In 98 % of the cases, you will use the `bletl.parse` function to load data.\n",
    "\n",
    "The function comes with a few arguments that you can use to override calibration settings if your raw data file for example does not specify the correct `lot_number`.\n",
    "\n",
    "To learn all about the different options, run `help(bletl.parse)` or `bletl.parse?`.\n",
    "\n",
    "## Parsing\n",
    "In this quickstart, we load a raw data file from the test suite:"
   ]
  },
  {
   "cell_type": "code",
   "execution_count": 2,
   "metadata": {},
   "outputs": [
    {
     "data": {
      "text/plain": [
       "BLData(model=BLPro) {\n",
       "  \"BS3\": FilterTimeSeries(98 cycles, 48 wells),\n",
       "  \"pH\": FilterTimeSeries(98 cycles, 48 wells),\n",
       "  \"DO\": FilterTimeSeries(98 cycles, 48 wells),\n",
       "}"
      ]
     },
     "execution_count": 2,
     "metadata": {},
     "output_type": "execute_result"
    }
   ],
   "source": [
    "bldata = bletl.parse(r'..\\bletl_analysis\\tests\\data\\107-AR_Coryne-AR-2019-04-15-12-39-30.csv')\n",
    "# just display the variable containing the data\n",
    "bldata"
   ]
  },
  {
   "cell_type": "markdown",
   "metadata": {},
   "source": [
    "As you can see in the above, the returned `BLData` object is a dictionary that maps identifiers of filtersets to `FilterTimeSeries` objects.\n",
    "\n",
    "## Metadata\n",
    "\n",
    "Additional properties, such as `comments`, `environment` or `filtersets` contain data that is not specific to a well:"
   ]
  },
  {
   "cell_type": "code",
   "execution_count": 3,
   "metadata": {},
   "outputs": [
    {
     "data": {
      "text/html": [
       "<div>\n",
       "<style scoped>\n",
       "    .dataframe tbody tr th:only-of-type {\n",
       "        vertical-align: middle;\n",
       "    }\n",
       "\n",
       "    .dataframe tbody tr th {\n",
       "        vertical-align: top;\n",
       "    }\n",
       "\n",
       "    .dataframe thead th {\n",
       "        text-align: right;\n",
       "    }\n",
       "</style>\n",
       "<table border=\"1\" class=\"dataframe\">\n",
       "  <thead>\n",
       "    <tr style=\"text-align: right;\">\n",
       "      <th></th>\n",
       "      <th>filter_number</th>\n",
       "      <th>filter_name</th>\n",
       "      <th>filter_id</th>\n",
       "      <th>filter_type</th>\n",
       "      <th>excitation</th>\n",
       "      <th>emission</th>\n",
       "      <th>gain</th>\n",
       "      <th>gain_1</th>\n",
       "      <th>gain_2</th>\n",
       "      <th>phase_statistic_sigma</th>\n",
       "      <th>signal_quality_tolerance</th>\n",
       "      <th>reference_gain</th>\n",
       "      <th>reference_value</th>\n",
       "      <th>calibration</th>\n",
       "      <th>emission2</th>\n",
       "    </tr>\n",
       "  </thead>\n",
       "  <tbody>\n",
       "    <tr>\n",
       "      <th>1</th>\n",
       "      <td>1</td>\n",
       "      <td>Biomass</td>\n",
       "      <td>201</td>\n",
       "      <td>Intensity</td>\n",
       "      <td>None</td>\n",
       "      <td>None</td>\n",
       "      <td>NaN</td>\n",
       "      <td>3.0</td>\n",
       "      <td>1.0</td>\n",
       "      <td>None</td>\n",
       "      <td>None</td>\n",
       "      <td>4.0</td>\n",
       "      <td>121.779999</td>\n",
       "      <td></td>\n",
       "      <td>None</td>\n",
       "    </tr>\n",
       "    <tr>\n",
       "      <th>2</th>\n",
       "      <td>2</td>\n",
       "      <td>pH(HP8)</td>\n",
       "      <td>202</td>\n",
       "      <td>pH</td>\n",
       "      <td>None</td>\n",
       "      <td>None</td>\n",
       "      <td>7.0</td>\n",
       "      <td>7.0</td>\n",
       "      <td>1.0</td>\n",
       "      <td>None</td>\n",
       "      <td>None</td>\n",
       "      <td>NaN</td>\n",
       "      <td>100.000000</td>\n",
       "      <td>1846_comp</td>\n",
       "      <td>None</td>\n",
       "    </tr>\n",
       "    <tr>\n",
       "      <th>3</th>\n",
       "      <td>3</td>\n",
       "      <td>DO(PSt3)</td>\n",
       "      <td>203</td>\n",
       "      <td>DO</td>\n",
       "      <td>None</td>\n",
       "      <td>None</td>\n",
       "      <td>7.0</td>\n",
       "      <td>7.0</td>\n",
       "      <td>1.0</td>\n",
       "      <td>None</td>\n",
       "      <td>None</td>\n",
       "      <td>NaN</td>\n",
       "      <td>100.000000</td>\n",
       "      <td>1846_comp</td>\n",
       "      <td>None</td>\n",
       "    </tr>\n",
       "  </tbody>\n",
       "</table>\n",
       "</div>"
      ],
      "text/plain": [
       "   filter_number filter_name filter_id filter_type excitation emission  gain  \\\n",
       "1              1     Biomass       201   Intensity       None     None   NaN   \n",
       "2              2     pH(HP8)       202          pH       None     None   7.0   \n",
       "3              3    DO(PSt3)       203          DO       None     None   7.0   \n",
       "\n",
       "   gain_1  gain_2 phase_statistic_sigma signal_quality_tolerance  \\\n",
       "1     3.0     1.0                  None                     None   \n",
       "2     7.0     1.0                  None                     None   \n",
       "3     7.0     1.0                  None                     None   \n",
       "\n",
       "   reference_gain  reference_value calibration emission2  \n",
       "1             4.0       121.779999                  None  \n",
       "2             NaN       100.000000   1846_comp      None  \n",
       "3             NaN       100.000000   1846_comp      None  "
      ]
     },
     "execution_count": 3,
     "metadata": {},
     "output_type": "execute_result"
    }
   ],
   "source": [
    "bldata.filtersets.head()"
   ]
  },
  {
   "cell_type": "code",
   "execution_count": 4,
   "metadata": {},
   "outputs": [
    {
     "data": {
      "text/html": [
       "<div>\n",
       "<style scoped>\n",
       "    .dataframe tbody tr th:only-of-type {\n",
       "        vertical-align: middle;\n",
       "    }\n",
       "\n",
       "    .dataframe tbody tr th {\n",
       "        vertical-align: top;\n",
       "    }\n",
       "\n",
       "    .dataframe thead th {\n",
       "        text-align: right;\n",
       "    }\n",
       "</style>\n",
       "<table border=\"1\" class=\"dataframe\">\n",
       "  <thead>\n",
       "    <tr style=\"text-align: right;\">\n",
       "      <th></th>\n",
       "      <th>cycle</th>\n",
       "      <th>time</th>\n",
       "      <th>temp_setpoint</th>\n",
       "      <th>temp_up</th>\n",
       "      <th>temp_down</th>\n",
       "      <th>temp_water</th>\n",
       "      <th>o2</th>\n",
       "      <th>co2</th>\n",
       "      <th>humidity</th>\n",
       "      <th>shaker_setpoint</th>\n",
       "      <th>shaker_actual</th>\n",
       "    </tr>\n",
       "  </thead>\n",
       "  <tbody>\n",
       "    <tr>\n",
       "      <th>4</th>\n",
       "      <td>1</td>\n",
       "      <td>0.0125</td>\n",
       "      <td>None</td>\n",
       "      <td>27.8</td>\n",
       "      <td>29.2</td>\n",
       "      <td>28.3</td>\n",
       "      <td>21.55</td>\n",
       "      <td>-9999.0</td>\n",
       "      <td>68.89</td>\n",
       "      <td>None</td>\n",
       "      <td>1400.0</td>\n",
       "    </tr>\n",
       "    <tr>\n",
       "      <th>168</th>\n",
       "      <td>2</td>\n",
       "      <td>0.2125</td>\n",
       "      <td>None</td>\n",
       "      <td>30.0</td>\n",
       "      <td>30.0</td>\n",
       "      <td>31.1</td>\n",
       "      <td>21.11</td>\n",
       "      <td>-9999.0</td>\n",
       "      <td>85.38</td>\n",
       "      <td>None</td>\n",
       "      <td>1399.0</td>\n",
       "    </tr>\n",
       "    <tr>\n",
       "      <th>332</th>\n",
       "      <td>3</td>\n",
       "      <td>0.4125</td>\n",
       "      <td>None</td>\n",
       "      <td>30.0</td>\n",
       "      <td>30.0</td>\n",
       "      <td>30.2</td>\n",
       "      <td>21.13</td>\n",
       "      <td>-9999.0</td>\n",
       "      <td>85.04</td>\n",
       "      <td>None</td>\n",
       "      <td>1399.0</td>\n",
       "    </tr>\n",
       "    <tr>\n",
       "      <th>496</th>\n",
       "      <td>4</td>\n",
       "      <td>0.6125</td>\n",
       "      <td>None</td>\n",
       "      <td>29.9</td>\n",
       "      <td>29.9</td>\n",
       "      <td>29.9</td>\n",
       "      <td>21.15</td>\n",
       "      <td>-9999.0</td>\n",
       "      <td>85.34</td>\n",
       "      <td>None</td>\n",
       "      <td>1400.0</td>\n",
       "    </tr>\n",
       "    <tr>\n",
       "      <th>660</th>\n",
       "      <td>5</td>\n",
       "      <td>0.8125</td>\n",
       "      <td>None</td>\n",
       "      <td>29.9</td>\n",
       "      <td>30.0</td>\n",
       "      <td>30.2</td>\n",
       "      <td>21.16</td>\n",
       "      <td>-9999.0</td>\n",
       "      <td>85.42</td>\n",
       "      <td>None</td>\n",
       "      <td>1399.0</td>\n",
       "    </tr>\n",
       "  </tbody>\n",
       "</table>\n",
       "</div>"
      ],
      "text/plain": [
       "     cycle    time temp_setpoint  temp_up  temp_down  temp_water     o2  \\\n",
       "4        1  0.0125          None     27.8       29.2        28.3  21.55   \n",
       "168      2  0.2125          None     30.0       30.0        31.1  21.11   \n",
       "332      3  0.4125          None     30.0       30.0        30.2  21.13   \n",
       "496      4  0.6125          None     29.9       29.9        29.9  21.15   \n",
       "660      5  0.8125          None     29.9       30.0        30.2  21.16   \n",
       "\n",
       "        co2  humidity shaker_setpoint  shaker_actual  \n",
       "4   -9999.0     68.89            None         1400.0  \n",
       "168 -9999.0     85.38            None         1399.0  \n",
       "332 -9999.0     85.04            None         1399.0  \n",
       "496 -9999.0     85.34            None         1400.0  \n",
       "660 -9999.0     85.42            None         1399.0  "
      ]
     },
     "execution_count": 4,
     "metadata": {},
     "output_type": "execute_result"
    }
   ],
   "source": [
    "bldata.environment.head()"
   ]
  },
  {
   "cell_type": "markdown",
   "metadata": {},
   "source": [
    "## Accessing and Visualizing Measurements\n",
    "Depending on what you want to do, you can retrieve measurement data as tuples of Numpy arrays:\n",
    "+ `bldata.get_timeseries`\n",
    "+ `bldata['pH'].get_timeseries`\n",
    "\n",
    "or as pandas DataFrames:\n",
    "+ `bldata.get_narrow_data`\n",
    "+ `bldata.get_unified_narrow_data`\n",
    "+ `bldata['pH'].get_unified_dataframe`\n",
    "\n",
    "or via the underlying DataFrames that separate time and value:\n",
    "+ `bldata['pH'].time`\n",
    "+ `bldata['pH'].value`"
   ]
  },
  {
   "cell_type": "code",
   "execution_count": 5,
   "metadata": {},
   "outputs": [
    {
     "data": {
      "image/png": "[encoded data removed]",
      "text/plain": [
       "<Figure size 432x288 with 1 Axes>"
      ]
     },
     "metadata": {
      "needs_background": "light"
     },
     "output_type": "display_data"
    }
   ],
   "source": [
    "# here we retrieve it as numpy arrays, becase that's very convenient for plotting\n",
    "t, bs = bldata.get_timeseries('BS3', 'A02')\n",
    "\n",
    "pyplot.scatter(t, bs)\n",
    "pyplot.xlabel('time   [h]')\n",
    "pyplot.ylabel('backscatter 3')\n",
    "pyplot.show()"
   ]
  },
  {
   "cell_type": "markdown",
   "metadata": {},
   "source": [
    "### Interactivity\n",
    "With the `ipywidgets` package, one can easily create interactive visualizations.\n",
    "\n",
    "Here, the plotting code from above is wrapped into a `plot_one_well` function that takes `filterset` and `well` as arguments.\n",
    "\n",
    "The `ipywidgets.interact` or `ipywidgets.interact_manual` function is then used to create an interactive visualization, where all the available filtersets/wells are passed as options."
   ]
  },
  {
   "cell_type": "code",
   "execution_count": 6,
   "metadata": {},
   "outputs": [
    {
     "data": {
      "application/vnd.jupyter.widget-view+json": {
       "model_id": "2942f1a02c564652a6c424b3bb2d9352",
       "version_major": 2,
       "version_minor": 0
      },
      "text/plain": [
       "interactive(children=(Dropdown(description='filterset', options=('BS3', 'pH', 'DO'), value='BS3'), Dropdown(de…"
      ]
     },
     "metadata": {},
     "output_type": "display_data"
    }
   ],
   "source": [
    "def plot_one_well(filterset, well):\n",
    "    time, value = bldata.get_timeseries(filterset, well)\n",
    "    \n",
    "    fig, ax = pyplot.subplots()\n",
    "    ax.scatter(time, value)\n",
    "    ax.set_ylabel(filterset)\n",
    "    ax.set_xlabel('time   [h]')\n",
    "    ax.set_title(well)\n",
    "    pyplot.show()\n",
    "    return\n",
    "\n",
    "ipywidgets.interact(\n",
    "    plot_one_well,\n",
    "    filterset=list(bldata.keys()),\n",
    "    well=list(bldata['pH'].time.columns),\n",
    ");"
   ]
  },
  {
   "cell_type": "markdown",
   "metadata": {},
   "source": [
    "That's it with the basic tutorial!\n",
    "To learn more about what `bletl` and its companion packages can do, checkout the other examples.\n",
    "\n",
    "Also remember to use `help(...)` and `dir(...)` to read the attributes/methods/docstrings. They often contain more detailed information than example notebooks."
   ]
  },
  {
   "cell_type": "code",
   "execution_count": null,
   "metadata": {},
   "outputs": [],
   "source": []
  }
 ],
 "metadata": {
  "kernelspec": {
   "display_name": "Python 3",
   "language": "python",
   "name": "python3"
  },
  "language_info": {
   "codemirror_mode": {
    "name": "ipython",
    "version": 3
   },
   "file_extension": ".py",
   "mimetype": "text/x-python",
   "name": "python",
   "nbconvert_exporter": "python",
   "pygments_lexer": "ipython3",
   "version": "3.7.7"
  },
  "widgets": {
   "application/vnd.jupyter.widget-state+json": {
    "state": {
     "03d5a937a3cd4e57a875b6af85404e9f": {
      "model_module": "@jupyter-widgets/base",
      "model_module_version": "1.2.0",
      "model_name": "LayoutModel",
      "state": {}
     },
     "053a00269fcb4d2a97635a8767c82990": {
      "model_module": "@jupyter-widgets/base",
      "model_module_version": "1.2.0",
      "model_name": "LayoutModel",
      "state": {}
     },
     "0fe1018505b548d59f56e0bf470a69cd": {
      "model_module": "@jupyter-widgets/controls",
      "model_module_version": "1.5.0",
      "model_name": "DropdownModel",
      "state": {
       "_options_labels": [
        "A01",
        "A02",
        "A03",
        "A04",
        "A05",
        "A06",
        "A07",
        "A08",
        "B01",
        "B02",
        "B03",
        "B04",
        "B05",
        "B06",
        "B07",
        "B08",
        "C01",
        "C02",
        "C03",
        "C04",
        "C05",
        "C06",
        "C07",
        "C08",
        "D01",
        "D02",
        "D03",
        "D04",
        "D05",
        "D06",
        "D07",
        "D08",
        "E01",
        "E02",
        "E03",
        "E04",
        "E05",
        "E06",
        "E07",
        "E08",
        "F01",
        "F02",
        "F03",
        "F04",
        "F05",
        "F06",
        "F07",
        "F08"
       ],
       "description": "well",
       "index": 0,
       "layout": "IPY_MODEL_6795b09e41aa453f926a9992a1417980",
       "style": "IPY_MODEL_a063cfd2ed30453590edf0159e690899"
      }
     },
     "19bf3b378e354b1db3f3e6e3531642a9": {
      "model_module": "@jupyter-widgets/base",
      "model_module_version": "1.2.0",
      "model_name": "LayoutModel",
      "state": {}
     },
     "2942f1a02c564652a6c424b3bb2d9352": {
      "model_module": "@jupyter-widgets/controls",
      "model_module_version": "1.5.0",
      "model_name": "VBoxModel",
      "state": {
       "_dom_classes": [
        "widget-interact"
       ],
       "children": [
        "IPY_MODEL_967d69950cf4426884b9b21c91c9ce89",
        "IPY_MODEL_fa54fe284fa24406a9c34bd75647c59a",
        "IPY_MODEL_d2a91d1ad6fd4fcbbef10d3d400a817c"
       ],
       "layout": "IPY_MODEL_053a00269fcb4d2a97635a8767c82990"
      }
     },
     "430e54dd2c054854a5e4b7275ef1264b": {
      "model_module": "@jupyter-widgets/output",
      "model_module_version": "1.0.0",
      "model_name": "OutputModel",
      "state": {
       "layout": "IPY_MODEL_7970f939937741e0b156a230e6ca3029",
       "outputs": [
        {
         "data": {
          "image/png": "iVBORw0KGgoAAAANSUhEUgAAAYQAAAEWCAYAAABmE+CbAAAABHNCSVQICAgIfAhkiAAAAAlwSFlzAAALEgAACxIB0t1+/AAAADh0RVh0U29mdHdhcmUAbWF0cGxvdGxpYiB2ZXJzaW9uMy4yLjIsIGh0dHA6Ly9tYXRwbG90bGliLm9yZy+WH4yJAAAYpUlEQVR4nO3df7BkdXnn8ffDcKPXYLiwjGRmZJxgLFwjgZFbLJtJXNSNKGXJiIkb44ZxY2VMrabCimwmWhWppCwwqNlN3M0GowF3CasJiMSgQiEu0QokMwICBQZNwOXOOIAygMvsMgzP/tGnsenp37dPn9Pd71fVrdt9zul7vpxp+tPfnycyE0mSDqu6AJKkejAQJEmAgSBJKhgIkiTAQJAkFQwESRJgIEiSCgaC1ENEfCUiHomI57Rsi4j4UER8r/j5/YiIlv2/FxF3RMRTEXFBJQWXRmAgSF1ExCbg54AE3tiyazuwFTgJ+GngDcA7W/Z/C/iPwF9PopzSuBgIUnfnADcDlwLbWrZvAz6SmQ9k5grwEeDtzZ2ZeVlmfgF4fHJFlVbv8KoLINXYOcBHgVuAmyPi2MzcC/wUcHvLcbcX26SpZg1B6iAifhZ4EfCZzNwFfBv45WL3EcCjLYc/ChzR2o8gTSMDQepsG3BdZj5cPP9zfths9APgx1qO/THgB+lKkZpyNhlJbSJiEXgLsCYivltsfg6wFBEnAXfR6FD+u2Jfc5s01QwE6VBbgYPAicCTLds/Q6Nf4VPAeyLiWhojkM4D/qh5UEQsAGto1MAPj4jnAgcy8+Bkii+NxkCQDrUN+LPM/E7rxoj4GPCHwHHA8cAdxa4/Bf6k5dCP8+xRSe8H/h2N0UpSbYXNnpIksFNZklQwECRJgIEgSSoYCJIkYEpGGR1zzDG5adOmqoshSVNl165dD2fm2kGPn4pA2LRpEzt37qy6GJI0VSLi/mGOt8lIkgQYCJKkgoEgSQIMBElSwUCQJAFTMspI0qGuvnWFi7/0TXbv28/6pUXOP+MEtm7eUHWxNMUMBGkKXX3rCr991R3sP9BYUXtl335++6rG4quGgkZlk5E0hS7+0jefCYOm/QcOcvGXvllRiTQLDARpCu3et3+o7dIgDARpCq1fWhxquzQIA0GaQuefcQKLC2uetW1xYQ3nn3FCRSXSLLBTWZpCzY5jRxlpnAwEaUpt3bzBANBY2WQkSQIMBElSwSYjaQY4a1njYCBIU85ZyxoXm4ykKddt1vJ5n7mdn9jx12y56MtcfetKRaXTNLGGIE25brOTD2YC1hg0OGsI0pQbZHby/gMHOffTt1lbUE8GgjTlOs1a7mZl337+w6dvY5NNSerAJiNpyrXPWj4s4pnmok6ae2xKUrvIHm+culheXs6dO3dWXQypcoMML20fdTSIDQ5VnUkRsSszlwc93hqCNCUGHV7aWmNYGXA5bGsLAvsQpKkxzE1xtm7ewNd2vJr/9G9OHrh/wY5nWUOQpsQoN8Vpry0EP+xD6MbawvwyEKQpsX5psWMTUL9hp62rojb7IPo1JTVrCxdccxcRsO+JA6xfWuRVL13Ljfc85BIZM6q0TuWIOA74FPDjwNPAJZn5nyPiAuDXgIeKQ9+Xmdf2+lt2KkudO4sXF9Zw4dknDv2hPErHcyfNGsfS4sKzgsOgqIdhO5XLDIR1wLrM/HpEPB/YBWwF3gL8IDM/POjfMhCkhnEuYjdobWEUzaDoNnrJxfgmozaBcMiJIj4HfAzYgoEg1ca4agvdtNciHnniwCF9Ga0B0q1ZahIhstpzdHt96/YjJ1ibqmUgRMQm4Cbg5cB7gLcDjwE7gfMy85EOr9kObAfYuHHjKffff3/p5ZTmVZm1hdVaXFjDm0/ZwJW7Vp4VWp2aq47s8ri9/6PThzJwSDD2O0fr3+3Uad983qszv1uz2zj6a2oXCBFxBPC/gA9m5lURcSzwMI1r8Hs0mpV+tdffsIYgTUbZtYW6WlxYw3MXDuORJw5UXZSuRukvGjYQSp2HEBELwJXA5Zl5FUBm7s3Mg5n5NPBx4NQyyyBpcFs3b+DCs09kw9IiQeNb61HPWyBoNOf829M2sqEY1RSVlnS89h84WOswgO5zTsaptGGnERHAJ4C7M/OjLdvXZeae4umbgDvLKoOk4bUOU+2lU7t4p/4BjU+vOSfjUOY8hC3ArwB3RMRtxbb3AW+NiJNpvGfuA95ZYhkklaRbcLT2RwzSdm6ADG6Qpc5Xo7RAyMyv0rlW2XPOgaTp1mkiXK/RNe0jc1o7abuZRIiMeo5uQTfIaKteFhfWPNP5XRZXO5VUS70m4gEdg2bYUUbd+g2a8yf6naPXaKBBV6btFpgzOcpoHAwEaT6VPfdgnLO/68jlryXNjEE7uFfz9wFnTRcMBKnmXOahXGWHzjQxEKQaG/SmONI4eIMcqcaGuSmOtFoGglRjo9wURxqVgSDVWLeJSGVPUNJ8MhCkGjv/jBMOuSfyJCYoaT7ZqSzVmMMiNUkGglRzDovUpNhkJEkCDARJUsFAkCQBBoIkqWAgSJIAA0GSVDAQJEmAgSBJKjgxTaoh74GgKhgIUs14DwRVxSYjqWa8B4KqYiBINeM9EFQVA0GqGe+BoKoYCFLNeA8EVcVOZalmvAeCqmIgSDXkPRBUBZuMJEmAgSBJKhgIkiTAQJAkFQwESRJQYiBExHERcWNE3B0Rd0XEbxbbj46I6yPi3uL3UWWVQZI0uDJrCE8B52XmPwdOA94VES8DdgA3ZOZLgBuK55KkipU2DyEz9wB7isePR8TdwAbgLOD04rDLgK8Av1VWOaRp4ZLXqtpEJqZFxCZgM3ALcGwRFmTmnoh4QZfXbAe2A2zcuHESxZQq45LXqoPSO5Uj4gjgSuDczHxs0Ndl5iWZuZyZy2vXri2vgFINuOS16qDUQIiIBRphcHlmXlVs3hsR64r964AHyyyDNA1c8lp1UOYoowA+AdydmR9t2XUNsK14vA34XFllkKaFS16rDsqsIWwBfgV4dUTcVvycCVwE/HxE3Av8fPFcmmsuea06KHOU0VeB6LL7NWWdV5pGLnmtOnD5a6kmXPJaVXPpCkkSYCBIkgoGgiQJMBAkSQU7laUKuX6R6sRAkCri+kWqG5uMpIq4fpHqxkCQKuL6RaobA0GqiOsXqW4MBKkirl+kurFTWaqI6xepbgwEqUKuX6Q6sclIkgQYCJKkgoEgSQIMBElSwUCQJAGOMpImysXsVGcGgjQhLmanurPJSJoQF7NT3RkI0oS4mJ3qzkCQJsTF7FR3BoI0IS5mp7rr26kcEacCmZl/HxEvA14H3JOZ15ZeOmmGuJid6q5nIETEB4DXA4dHxPXAvwC+AuyIiM2Z+cHyiyjNDhezU531qyH8AnAy8Bzgu8ALM/OxiLgYuAUwECRpRvQLhKcy8yDwRER8OzMfA8jM/RHxdPnFk6afk9E0LfoFwpMR8bzMfAI4pbkxIo4EDASpDyejaZr0G2X0yiIMyMzWAFgAtpVWKmlGOBlN06RfDWFNRCxk5gGAiDgBOBO4PzOvKr100pRzMpqmSb8awheBTQAR8ZPA3wLHA++KiAt7vTAiPhkRD0bEnS3bLoiIlYi4rfg5c3XFl+rNyWiaJv0C4ajMvLd4vA24IjN/g8ZQ1Df0ee2lNOYstPuDzDy5+HEug2aak9E0TfoFQrY8fjVwPUBmPkmfTuXMvAn4/qpKJ025rZs3cOHZJ7JhaZEANiwtcuHZJ9qhrFrq14fwjYj4MLAC/CRwHUBELK3inO+OiHOAncB5mfnIKv6WVHtORtO06FdD+DXgYRr9CK9tjjgCXgZ8eITz/THwYhqT3fYAH+l2YERsj4idEbHzoYceGuFUkqRhRGb2P6r1BRHHAN/LAV4YEZuAz2fmy4fZ1255eTl37tw5VDklad5FxK7MXB70+J41hIg4LSK+EhFXRcTmYsTQncDeiOjUYdyvcOtanr6p+FuSpBro14fwMeB9wJHAl4HXZ+bNEfFS4Aoaw1I7iogrgNOBYyLiAeADwOkRcTKNzur7gHeu9j9AqiOXq9A06hcIh2dmsyP5dzPzZoDMvCcier4wM9/aYfMnRiqlNEVcrkLTql+ncuvQ0vaplcN1PkhzwuUqNK361RBOiojHgAAWi8cUz59basmkKeVyFZpWPQMhM9f02i/pUOuXFlnp8OHvchWqO++pLI2Zy1VoWvW9p7Kk4XjvZE0rA0EqgctVaBoZCNKYOPdA085AkMbAuQeaBXYqS2Pg3APNAgNBGgPnHmgWGAjSGHirTM0CA0EaA+ceaBbYqSyNgXMPNAsMBGlMnHugaWcgSKvg3APNEgNBGpFzDzRr7FSWRuTcA80aA0EakXMPNGsMBGlEzj3QrDEQpBE590Czxk5laUTOPdCsMRCkITnUVLPKQJCG4FBTzTL7EKQhONRUs8xAkIbgUFPNMgNBGoJDTTXLDARpCA411SyzU1kagkNNNcsMBGkADjXVPDAQpD4caqp5YR+C1IdDTTUvDASpD4eaal6UFggR8cmIeDAi7mzZdnREXB8R9xa/jyrr/NK4ONRU86LMGsKlwOvatu0AbsjMlwA3FM+lWrr61hW2XPRlVvbtJ9r2OdRUs6i0QMjMm4Dvt20+C7iseHwZsLWs80ur0exIXimahRKeCYUNS4tcePaJdihr5kx6lNGxmbkHIDP3RMQLuh0YEduB7QAbN26cUPGkhk4dyUkjDL6249XVFEoqWW07lTPzksxczszltWvXVl0czRk7kjWPJh0IeyNiHUDx+8EJn18aiB3JmkeTDoRrgG3F423A5yZ8fmkgrlmkeVRaH0JEXAGcDhwTEQ8AHwAuAj4TEe8AvgP8Ylnnl4bVvjzFm0/ZwI33PORyFZobpQVCZr61y67XlHVOaVSdlqe4cteKo4k0V2rbqSxNkstTSAaCBDiqSAJXO9Wca/YbZJf9jirSPDEQNLfa+w3aOapI88ZA0Nzq1G/QtMFRRZpDBoLmVrf+gQCXp9BcslNZc8vZyNKzWUPQ3Gl2JDeXtW7tULbfQPPMQNBcae9Ibi5r3VzJ1H4DzTMDQXPFZa2l7gwEzYXWZqJOnIAmGQiaA/3mG4AdyRI4ykhzoNd8A7AjWWqyhqCZ1a+ZCOxIlloZCJpJgzQT2ZEsPZtNRppJNhNJw7OGoJnUa9SQzURSZwaCZkq/5axtJpK6MxA0M1zOWlodA0FTz9FE0ngYCJpqg4wmcjlraTAGgqZOs0awe99+DovgYHbrMWhwFrI0GANBU6W9RtAvDOw3kAZnIGiq9Jtf0Mp+A2k4BoKmwiAdx02LC2u48OwTDQJpSAaCam+QjuM1ETydyXprBdLIDATV1qC1AmsE0ngYCKqVXvc77sR+Aml8DATVRqf7HffiMhTSeBkIqtwwHcZNDieVxs9AUCWGbRpqZTORVA4DQRPTLQQGDQM7j6VyVRIIEXEf8DhwEHgqM5erKIcmZ9j+gaZmcFgrkMpXZQ3hVZn5cIXnVwla1xk6cnGBCNj3xIGB1hxqZwhIk2WTkcamvRawb/+BZ/YNEwY2DUnVqCoQErguIhL4k8y8pP2AiNgObAfYuHHjhIunYYwySqidTUNS9aoKhC2ZuTsiXgBcHxH3ZOZNrQcUIXEJwPLy8nBtDSpFp+agR544MPQooSZDQKqXSgIhM3cXvx+MiM8CpwI39X6VqtSrOWiYMHDNIam+Jh4IEfGjwGGZ+Xjx+LXA7066HPqh1m/+65cWedVL13LjPQ8dUhNYLfsGpHqrooZwLPDZiGie/88z84sVlGPuDNLks7JvP//j5u8885rWmsCwllpGGVkjkOpv4oGQmf8InDTp88669m/5zQ/fbpPBRm3yGYQ1AWk6RQ45NrwKy8vLuXPnzqqLUQuDduw2n4/a4TssO4il+omIXcNM/HUewgR0+/be7ZjWCV3tj//Pk09x4GDjI77Xt/xhl4UYls1B0uyZ2RrCIB/C43hNv7/VafG25vOlMQzdnDSbg6TpMWwNYSYDodMtF9s/hNu/2XZ6TfPDDxjo23u3b/LToLXJp9MoI2sC0vQxEIAtF3154FmzC4cFRzz38J7DKqfl2/sg+gWjpNlhHwKwe4glFA48nX3H2E9LGHTrSLbDV9IgZjIQ1i8trmpdnTpr1mjam6k6DTUdR1+IpPkxk4Fw/hknHNIfULVBhoF2as4ZpQ1/6+YNBoCkoc1kIDQ/DEe9ReM4tH6T7/bt3Q5bSXUyk53K7XqN8W8fDbS4sIY3n7KBK3et9B2l1G2UkR/ukurATuUOejWhdGtvX37R0bbDS5orc1FDkKR5NGwN4bAyCyNJmh4GgiQJMBAkSQUDQZIEGAiSpMJUjDKKiIeA+0d8+THAw2MszjhZttHVuXyWbTR1LhvUu3zdyvaizFw76B+ZikBYjYjYOcywq0mybKOrc/ks22jqXDaod/nGVTabjCRJgIEgSSrMQyBcUnUBerBso6tz+SzbaOpcNqh3+cZStpnvQ5AkDWYeagiSpAEYCJIkYIYCISJeFxHfjIhvRcSODvsjIv6w2P+NiHjFhMp1XETcGBF3R8RdEfGbHY45PSIejYjbip/fmUTZinPfFxF3FOc9ZEnZCq/bCS3X47aIeCwizm07ZqLXLSI+GREPRsSdLduOjojrI+Le4vdRXV7b8/1ZUtkujoh7in+3z0bEUpfX9nwPlFS2CyJipeXf7swur63iun26pVz3RcRtXV5b9nXr+NlR6nsuM6f+B1gDfBs4HvgR4HbgZW3HnAl8gca9bk4DbplQ2dYBrygePx/4hw5lOx34fEXX7j7gmB77K7luHf59v0tjkk1l1w14JfAK4M6Wbb8P7Cge7wA+1KX8Pd+fJZXttcDhxeMPdSrbIO+Bksp2AfDeAf7dJ37d2vZ/BPidiq5bx8+OMt9zs1JDOBX4Vmb+Y2Y+CfxP4Ky2Y84CPpUNNwNLEbGu7IJl5p7M/Hrx+HHgbmCa7rRTyXVr8xrg25k56mz1scjMm4Dvt20+C7iseHwZsLXDSwd5f469bJl5XWY+VTy9GXjhOM85qC7XbRCVXLemiAjgLcAV4zznoHp8dpT2npuVQNgA/O+W5w9w6IfuIMeUKiI2AZuBWzrs/pcRcXtEfCEifmqCxUrguojYFRHbO+yv/LoBv0T3/ymrum5Nx2bmHmj8Dwy8oMMxdbiGv0qjptdJv/dAWd5dNGd9skuzR9XX7eeAvZl5b5f9E7tubZ8dpb3nZiUQosO29vG0gxxTmog4ArgSODczH2vb/XUazSEnAX8EXD2pcgFbMvMVwOuBd0XEK9v2V33dfgR4I/AXHXZXed2GUfU1fD/wFHB5l0P6vQfK8MfAi4GTgT00mmbaVXrdgLfSu3YwkevW57Oj68s6bOt77WYlEB4Ajmt5/kJg9wjHlCIiFmj8g16emVe178/MxzLzB8Xja4GFiDhmEmXLzN3F7weBz9Koaraq7LoVXg98PTP3tu+o8rq12NtsQit+P9jhmCrfe9uANwBvy6Jxud0A74Gxy8y9mXkwM58GPt7lnFVet8OBs4FPdztmEtety2dHae+5WQmEvwdeEhE/UXyj/CXgmrZjrgHOKUbNnAY82qx2laloh/wEcHdmfrTLMT9eHEdEnErj3+V7Eyjbj0bE85uPaXRC3tl2WCXXrUXXb2lVXbc21wDbisfbgM91OGaQ9+fYRcTrgN8C3piZT3Q5ZpD3QBlla+2HelOXc1Zy3Qr/GrgnMx/otHMS163HZ0d577myesgn/UNjNMw/0OhZf3+x7deBXy8eB/Bfiv13AMsTKtfP0qiqfQO4rfg5s61s7wbuojES4GbgZyZUtuOLc95enL8216049/NofMAf2bKtsutGI5j2AAdofAN7B/DPgBuAe4vfRxfHrgeu7fX+nEDZvkWjHbn5vvtv7WXr9h6YQNn+e/F++gaND6p1dbluxfZLm++zlmMnfd26fXaU9p5z6QpJEjA7TUaSpFUyECRJgIEgSSoYCJIkwECQJBUMBEkSYCBoDkTEUkT8+5bn6yPiLyd4/uYy3de2PP98l2Mvj4jvR8QvTKp8UpOBoHmwBDwTCJm5OzMn/YH7N5nZcc3/Vpn5NiY3G1d6FgNB8+Ai4MXFjUwujohNzRuiRMTbI+LqiPiriPiniHh3RLwnIm6NiJsj4ujiuBdHxBeLlS3/JiJeusoyHRERfxmNG9hc3lyCQ6qSgaB5sIPG/RROzszzO+x/OfDLNBYn+yDwRGZuBv4WOKc45hLgNzLzFOC9wH9dZZk2A+fSuOHJ8cCWVf49adUOr7oAUg3cmI0bkDweEY8Cf1VsvwP46WL54Z8B/qLli/xzVnnOv8ti4bRo3KJxE/DVVf5NaVUMBAn+X8vjp1ueP03j/5HDgH2ZeXJJ5zyI/y+qBmwy0jx4nMY9aUeSjZuS/FNE/CI0liWOiJPGVTipLgwEzbzM/B7wtYi4MyIuHvHPvA14R0Q0lzse6719pTpw+WupZBFxOvDezHzDgMdfCnw+Myc2V0ICawjSJDwJvLw5Ma2XiLgc+FfA/y29VFIbawiSJMAagiSpYCBIkgADQZJUMBAkSQD8f2kBoV0KWowSAAAAAElFTkSuQmCC\n",
          "text/plain": "<Figure size 432x288 with 1 Axes>"
         },
         "metadata": {
          "needs_background": "light"
         },
         "output_type": "display_data"
        }
       ]
      }
     },
     "58c9eb9e24a14d68ad15bbf95fc96e8a": {
      "model_module": "@jupyter-widgets/controls",
      "model_module_version": "1.5.0",
      "model_name": "DropdownModel",
      "state": {
       "_options_labels": [
        "BS3",
        "pH",
        "DO"
       ],
       "description": "filterset",
       "index": 0,
       "layout": "IPY_MODEL_eadb881b117a4ce7aa46c11907aa2d20",
       "style": "IPY_MODEL_9dce66163d7e40eb85c2dafc3461db81"
      }
     },
     "5d885e4d80004c2cb887d8024c58d032": {
      "model_module": "@jupyter-widgets/base",
      "model_module_version": "1.2.0",
      "model_name": "LayoutModel",
      "state": {}
     },
     "61b93715adbb4603a1430f49f88be25a": {
      "model_module": "@jupyter-widgets/controls",
      "model_module_version": "1.5.0",
      "model_name": "VBoxModel",
      "state": {
       "_dom_classes": [
        "widget-interact"
       ],
       "children": [
        "IPY_MODEL_58c9eb9e24a14d68ad15bbf95fc96e8a",
        "IPY_MODEL_0fe1018505b548d59f56e0bf470a69cd",
        "IPY_MODEL_430e54dd2c054854a5e4b7275ef1264b"
       ],
       "layout": "IPY_MODEL_695452a5bfc744a8bc379e8a6d03dcf3"
      }
     },
     "6795b09e41aa453f926a9992a1417980": {
      "model_module": "@jupyter-widgets/base",
      "model_module_version": "1.2.0",
      "model_name": "LayoutModel",
      "state": {}
     },
     "695452a5bfc744a8bc379e8a6d03dcf3": {
      "model_module": "@jupyter-widgets/base",
      "model_module_version": "1.2.0",
      "model_name": "LayoutModel",
      "state": {}
     },
     "7970f939937741e0b156a230e6ca3029": {
      "model_module": "@jupyter-widgets/base",
      "model_module_version": "1.2.0",
      "model_name": "LayoutModel",
      "state": {}
     },
     "967d69950cf4426884b9b21c91c9ce89": {
      "model_module": "@jupyter-widgets/controls",
      "model_module_version": "1.5.0",
      "model_name": "DropdownModel",
      "state": {
       "_options_labels": [
        "BS3",
        "pH",
        "DO"
       ],
       "description": "filterset",
       "index": 0,
       "layout": "IPY_MODEL_5d885e4d80004c2cb887d8024c58d032",
       "style": "IPY_MODEL_96a9dbd886fd4e8cad255a4453da2eca"
      }
     },
     "96a9dbd886fd4e8cad255a4453da2eca": {
      "model_module": "@jupyter-widgets/controls",
      "model_module_version": "1.5.0",
      "model_name": "DescriptionStyleModel",
      "state": {
       "description_width": ""
      }
     },
     "9dce66163d7e40eb85c2dafc3461db81": {
      "model_module": "@jupyter-widgets/controls",
      "model_module_version": "1.5.0",
      "model_name": "DescriptionStyleModel",
      "state": {
       "description_width": ""
      }
     },
     "a063cfd2ed30453590edf0159e690899": {
      "model_module": "@jupyter-widgets/controls",
      "model_module_version": "1.5.0",
      "model_name": "DescriptionStyleModel",
      "state": {
       "description_width": ""
      }
     },
     "d2a91d1ad6fd4fcbbef10d3d400a817c": {
      "model_module": "@jupyter-widgets/output",
      "model_module_version": "1.0.0",
      "model_name": "OutputModel",
      "state": {
       "layout": "IPY_MODEL_03d5a937a3cd4e57a875b6af85404e9f",
       "outputs": [
        {
         "data": {
          "image/png": "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\n",
          "text/plain": "<Figure size 432x288 with 1 Axes>"
         },
         "metadata": {
          "needs_background": "light"
         },
         "output_type": "display_data"
        }
       ]
      }
     },
     "e935c74b966c40579d80395bfd4dfa88": {
      "model_module": "@jupyter-widgets/controls",
      "model_module_version": "1.5.0",
      "model_name": "DescriptionStyleModel",
      "state": {
       "description_width": ""
      }
     },
     "eadb881b117a4ce7aa46c11907aa2d20": {
      "model_module": "@jupyter-widgets/base",
      "model_module_version": "1.2.0",
      "model_name": "LayoutModel",
      "state": {}
     },
     "fa54fe284fa24406a9c34bd75647c59a": {
      "model_module": "@jupyter-widgets/controls",
      "model_module_version": "1.5.0",
      "model_name": "DropdownModel",
      "state": {
       "_options_labels": [
        "A01",
        "A02",
        "A03",
        "A04",
        "A05",
        "A06",
        "A07",
        "A08",
        "B01",
        "B02",
        "B03",
        "B04",
        "B05",
        "B06",
        "B07",
        "B08",
        "C01",
        "C02",
        "C03",
        "C04",
        "C05",
        "C06",
        "C07",
        "C08",
        "D01",
        "D02",
        "D03",
        "D04",
        "D05",
        "D06",
        "D07",
        "D08",
        "E01",
        "E02",
        "E03",
        "E04",
        "E05",
        "E06",
        "E07",
        "E08",
        "F01",
        "F02",
        "F03",
        "F04",
        "F05",
        "F06",
        "F07",
        "F08"
       ],
       "description": "well",
       "index": 0,
       "layout": "IPY_MODEL_19bf3b378e354b1db3f3e6e3531642a9",
       "style": "IPY_MODEL_e935c74b966c40579d80395bfd4dfa88"
      }
     }
    },
    "version_major": 2,
    "version_minor": 0
   }
  }
 },
 "nbformat": 4,
 "nbformat_minor": 4
}
