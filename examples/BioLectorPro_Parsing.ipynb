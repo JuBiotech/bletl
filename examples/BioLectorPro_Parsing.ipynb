{
 "cells": [
  {
   "cell_type": "code",
   "execution_count": 1,
   "metadata": {},
   "outputs": [],
   "source": [
    "%load_ext autoreload\n",
    "%autoreload 2"
   ]
  },
  {
   "cell_type": "code",
   "execution_count": 2,
   "metadata": {},
   "outputs": [],
   "source": [
    "import pathlib\n",
    "import pandas\n",
    "import numpy\n",
    "\n",
    "import bletl_pro"
   ]
  },
  {
   "cell_type": "markdown",
   "metadata": {},
   "source": [
    "## Parse one of the example files"
   ]
  },
  {
   "cell_type": "code",
   "execution_count": 3,
   "metadata": {},
   "outputs": [
    {
     "data": {
      "text/plain": [
       "{'BS2': <bletl.core.FilterTimeSeries at 0x1a898d649b0>,\n",
       " 'BS5': <bletl.core.FilterTimeSeries at 0x1a898d56588>,\n",
       " 'pH': <bletl.core.FilterTimeSeries at 0x1a898d567f0>,\n",
       " 'DO': <bletl.core.FilterTimeSeries at 0x1a898d56a58>}"
      ]
     },
     "execution_count": 3,
     "metadata": {},
     "output_type": "execute_result"
    }
   ],
   "source": [
    "fppro = pathlib.Path(r'..\\bletl_pro\\tests\\data\\BLPro\\18-FZJ-Test2--2018-02-07-10-01-11.csv')\n",
    "\n",
    "bldata = bletl_pro.parse(fppro)\n",
    "bldata"
   ]
  },
  {
   "cell_type": "markdown",
   "metadata": {},
   "source": [
    "As you can see above, you can access `FilterTimeSeries` objects with calibrated data just like you can with BioLector I.\n",
    "\n",
    "## Also have a look at all the DataFrames with additional information..."
   ]
  },
  {
   "cell_type": "code",
   "execution_count": 4,
   "metadata": {},
   "outputs": [
    {
     "data": {
      "text/html": [
       "<div>\n",
       "<style scoped>\n",
       "    .dataframe tbody tr th:only-of-type {\n",
       "        vertical-align: middle;\n",
       "    }\n",
       "\n",
       "    .dataframe tbody tr th {\n",
       "        vertical-align: top;\n",
       "    }\n",
       "\n",
       "    .dataframe thead th {\n",
       "        text-align: right;\n",
       "    }\n",
       "</style>\n",
       "<table border=\"1\" class=\"dataframe\">\n",
       "  <thead>\n",
       "    <tr style=\"text-align: right;\">\n",
       "      <th></th>\n",
       "      <th>time</th>\n",
       "      <th>user_comment</th>\n",
       "      <th>sys_comment</th>\n",
       "    </tr>\n",
       "  </thead>\n",
       "  <tbody>\n",
       "    <tr>\n",
       "      <th>0</th>\n",
       "      <td>0.018889</td>\n",
       "      <td>nan</td>\n",
       "      <td>COVER CLOSED</td>\n",
       "    </tr>\n",
       "    <tr>\n",
       "      <th>1</th>\n",
       "      <td>0.020278</td>\n",
       "      <td>nan</td>\n",
       "      <td>TEMP REGULATION ON</td>\n",
       "    </tr>\n",
       "    <tr>\n",
       "      <th>2</th>\n",
       "      <td>0.020278</td>\n",
       "      <td>nan</td>\n",
       "      <td>START SHAKER</td>\n",
       "    </tr>\n",
       "  </tbody>\n",
       "</table>\n",
       "</div>"
      ],
      "text/plain": [
       "       time user_comment         sys_comment\n",
       "0  0.018889          nan        COVER CLOSED\n",
       "1  0.020278          nan  TEMP REGULATION ON\n",
       "2  0.020278          nan        START SHAKER"
      ]
     },
     "execution_count": 4,
     "metadata": {},
     "output_type": "execute_result"
    }
   ],
   "source": [
    "bldata.comments.head()"
   ]
  },
  {
   "cell_type": "code",
   "execution_count": 5,
   "metadata": {},
   "outputs": [
    {
     "data": {
      "text/html": [
       "<div>\n",
       "<style scoped>\n",
       "    .dataframe tbody tr th:only-of-type {\n",
       "        vertical-align: middle;\n",
       "    }\n",
       "\n",
       "    .dataframe tbody tr th {\n",
       "        vertical-align: top;\n",
       "    }\n",
       "\n",
       "    .dataframe thead th {\n",
       "        text-align: right;\n",
       "    }\n",
       "</style>\n",
       "<table border=\"1\" class=\"dataframe\">\n",
       "  <thead>\n",
       "    <tr style=\"text-align: right;\">\n",
       "      <th></th>\n",
       "      <th></th>\n",
       "      <th>time</th>\n",
       "      <th>amp_1</th>\n",
       "      <th>amp_2</th>\n",
       "      <th>phase</th>\n",
       "    </tr>\n",
       "    <tr>\n",
       "      <th>cycle</th>\n",
       "      <th>filterset</th>\n",
       "      <th></th>\n",
       "      <th></th>\n",
       "      <th></th>\n",
       "      <th></th>\n",
       "    </tr>\n",
       "  </thead>\n",
       "  <tbody>\n",
       "    <tr>\n",
       "      <th rowspan=\"2\" valign=\"top\">1</th>\n",
       "      <th>1</th>\n",
       "      <td>0.029722</td>\n",
       "      <td>230.07</td>\n",
       "      <td>0.0</td>\n",
       "      <td>NaN</td>\n",
       "    </tr>\n",
       "    <tr>\n",
       "      <th>2</th>\n",
       "      <td>0.050278</td>\n",
       "      <td>230.02</td>\n",
       "      <td>0.0</td>\n",
       "      <td>NaN</td>\n",
       "    </tr>\n",
       "    <tr>\n",
       "      <th rowspan=\"2\" valign=\"top\">2</th>\n",
       "      <th>1</th>\n",
       "      <td>0.112222</td>\n",
       "      <td>252.39</td>\n",
       "      <td>0.0</td>\n",
       "      <td>NaN</td>\n",
       "    </tr>\n",
       "    <tr>\n",
       "      <th>2</th>\n",
       "      <td>0.132500</td>\n",
       "      <td>251.83</td>\n",
       "      <td>0.0</td>\n",
       "      <td>NaN</td>\n",
       "    </tr>\n",
       "    <tr>\n",
       "      <th>3</th>\n",
       "      <th>1</th>\n",
       "      <td>0.195556</td>\n",
       "      <td>252.18</td>\n",
       "      <td>0.0</td>\n",
       "      <td>NaN</td>\n",
       "    </tr>\n",
       "  </tbody>\n",
       "</table>\n",
       "</div>"
      ],
      "text/plain": [
       "                     time   amp_1  amp_2  phase\n",
       "cycle filterset                                \n",
       "1     1          0.029722  230.07    0.0    NaN\n",
       "      2          0.050278  230.02    0.0    NaN\n",
       "2     1          0.112222  252.39    0.0    NaN\n",
       "      2          0.132500  251.83    0.0    NaN\n",
       "3     1          0.195556  252.18    0.0    NaN"
      ]
     },
     "execution_count": 5,
     "metadata": {},
     "output_type": "execute_result"
    }
   ],
   "source": [
    "bldata.references.head()"
   ]
  },
  {
   "cell_type": "code",
   "execution_count": 6,
   "metadata": {},
   "outputs": [
    {
     "data": {
      "text/html": [
       "<div>\n",
       "<style scoped>\n",
       "    .dataframe tbody tr th:only-of-type {\n",
       "        vertical-align: middle;\n",
       "    }\n",
       "\n",
       "    .dataframe tbody tr th {\n",
       "        vertical-align: top;\n",
       "    }\n",
       "\n",
       "    .dataframe thead th {\n",
       "        text-align: right;\n",
       "    }\n",
       "</style>\n",
       "<table border=\"1\" class=\"dataframe\">\n",
       "  <thead>\n",
       "    <tr style=\"text-align: right;\">\n",
       "      <th></th>\n",
       "      <th>filter_number</th>\n",
       "      <th>filter_name</th>\n",
       "      <th>filter_id</th>\n",
       "      <th>filter_type</th>\n",
       "      <th>excitation</th>\n",
       "      <th>emission</th>\n",
       "      <th>gain</th>\n",
       "      <th>gain_1</th>\n",
       "      <th>gain_2</th>\n",
       "      <th>phase_statistic_sigma</th>\n",
       "      <th>signal_quality_tolerance</th>\n",
       "      <th>reference_gain</th>\n",
       "      <th>reference_value</th>\n",
       "      <th>calibration</th>\n",
       "      <th>emission2</th>\n",
       "    </tr>\n",
       "  </thead>\n",
       "  <tbody>\n",
       "    <tr>\n",
       "      <th>1</th>\n",
       "      <td>1</td>\n",
       "      <td>Biomass</td>\n",
       "      <td>201</td>\n",
       "      <td>Intensity</td>\n",
       "      <td>None</td>\n",
       "      <td>None</td>\n",
       "      <td>NaN</td>\n",
       "      <td>2.0</td>\n",
       "      <td>1.0</td>\n",
       "      <td>None</td>\n",
       "      <td>None</td>\n",
       "      <td>5.0</td>\n",
       "      <td>242.897507</td>\n",
       "      <td></td>\n",
       "      <td>None</td>\n",
       "    </tr>\n",
       "    <tr>\n",
       "      <th>2</th>\n",
       "      <td>2</td>\n",
       "      <td>Biomass</td>\n",
       "      <td>201</td>\n",
       "      <td>Intensity</td>\n",
       "      <td>None</td>\n",
       "      <td>None</td>\n",
       "      <td>NaN</td>\n",
       "      <td>5.0</td>\n",
       "      <td>1.0</td>\n",
       "      <td>None</td>\n",
       "      <td>None</td>\n",
       "      <td>5.0</td>\n",
       "      <td>242.897507</td>\n",
       "      <td></td>\n",
       "      <td>None</td>\n",
       "    </tr>\n",
       "    <tr>\n",
       "      <th>3</th>\n",
       "      <td>3</td>\n",
       "      <td>pH(HP8)</td>\n",
       "      <td>202</td>\n",
       "      <td>pH</td>\n",
       "      <td>None</td>\n",
       "      <td>None</td>\n",
       "      <td>7.0</td>\n",
       "      <td>7.0</td>\n",
       "      <td>1.0</td>\n",
       "      <td>None</td>\n",
       "      <td>None</td>\n",
       "      <td>NaN</td>\n",
       "      <td>100.000000</td>\n",
       "      <td>FZJ-Test-HP8</td>\n",
       "      <td>None</td>\n",
       "    </tr>\n",
       "    <tr>\n",
       "      <th>4</th>\n",
       "      <td>4</td>\n",
       "      <td>DO(PSt3)</td>\n",
       "      <td>203</td>\n",
       "      <td>DO</td>\n",
       "      <td>None</td>\n",
       "      <td>None</td>\n",
       "      <td>7.0</td>\n",
       "      <td>7.0</td>\n",
       "      <td>1.0</td>\n",
       "      <td>None</td>\n",
       "      <td>None</td>\n",
       "      <td>NaN</td>\n",
       "      <td>100.000000</td>\n",
       "      <td>FZJ-Test-Pst3</td>\n",
       "      <td>None</td>\n",
       "    </tr>\n",
       "  </tbody>\n",
       "</table>\n",
       "</div>"
      ],
      "text/plain": [
       "   filter_number filter_name filter_id filter_type excitation emission  gain  \\\n",
       "1              1     Biomass       201   Intensity       None     None   NaN   \n",
       "2              2     Biomass       201   Intensity       None     None   NaN   \n",
       "3              3     pH(HP8)       202          pH       None     None   7.0   \n",
       "4              4    DO(PSt3)       203          DO       None     None   7.0   \n",
       "\n",
       "   gain_1  gain_2 phase_statistic_sigma signal_quality_tolerance  \\\n",
       "1     2.0     1.0                  None                     None   \n",
       "2     5.0     1.0                  None                     None   \n",
       "3     7.0     1.0                  None                     None   \n",
       "4     7.0     1.0                  None                     None   \n",
       "\n",
       "   reference_gain  reference_value    calibration emission2  \n",
       "1             5.0       242.897507                     None  \n",
       "2             5.0       242.897507                     None  \n",
       "3             NaN       100.000000   FZJ-Test-HP8      None  \n",
       "4             NaN       100.000000  FZJ-Test-Pst3      None  "
      ]
     },
     "execution_count": 6,
     "metadata": {},
     "output_type": "execute_result"
    }
   ],
   "source": [
    "bldata.filtersets.head()"
   ]
  },
  {
   "cell_type": "code",
   "execution_count": null,
   "metadata": {},
   "outputs": [],
   "source": []
  }
 ],
 "metadata": {
  "kernelspec": {
   "display_name": "Python 3",
   "language": "python",
   "name": "python3"
  },
  "language_info": {
   "codemirror_mode": {
    "name": "ipython",
    "version": 3
   },
   "file_extension": ".py",
   "mimetype": "text/x-python",
   "name": "python",
   "nbconvert_exporter": "python",
   "pygments_lexer": "ipython3",
   "version": "3.6.6"
  }
 },
 "nbformat": 4,
 "nbformat_minor": 2
}
