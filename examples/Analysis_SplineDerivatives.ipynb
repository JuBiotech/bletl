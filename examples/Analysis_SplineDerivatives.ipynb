{
 "cells": [
  {
   "cell_type": "code",
   "execution_count": 1,
   "metadata": {},
   "outputs": [],
   "source": [
    "%load_ext autoreload\n",
    "%autoreload 2"
   ]
  },
  {
   "cell_type": "markdown",
   "metadata": {},
   "source": [
    "# Curve Derivatives"
   ]
  },
  {
   "cell_type": "code",
   "execution_count": 2,
   "metadata": {},
   "outputs": [],
   "source": [
    "import ipywidgets\n",
    "import numpy\n",
    "import pandas\n",
    "import pathlib\n",
    "import matplotlib.cm\n",
    "from matplotlib import pyplot\n",
    "import scipy\n",
    "\n",
    "import bletl\n",
    "import bletl_analysis"
   ]
  },
  {
   "cell_type": "markdown",
   "metadata": {},
   "source": [
    "### Parse the raw data file"
   ]
  },
  {
   "cell_type": "code",
   "execution_count": 3,
   "metadata": {},
   "outputs": [],
   "source": [
    "filepath = pathlib.Path(r'..\\bletl\\tests\\data\\BL1\\NT_1200rpm_30C_DO-GFP75-pH-BS10_12min_20171221_121339.csv')\n",
    "bldata = bletl.parse(filepath, lot_number=1515, temp=30)"
   ]
  },
  {
   "cell_type": "markdown",
   "metadata": {},
   "source": [
    "### Plot the data of interest"
   ]
  },
  {
   "cell_type": "code",
   "execution_count": 6,
   "metadata": {},
   "outputs": [
    {
     "data": {
      "application/vnd.jupyter.widget-view+json": {
       "model_id": "fccb78b88ebf4299ad0236203980970a",
       "version_major": 2,
       "version_minor": 0
      },
      "text/plain": [
       "interactive(children=(Dropdown(description='well', options=('A01', 'A02', 'A03', 'A04', 'A05', 'A06', 'A07', '…"
      ]
     },
     "metadata": {},
     "output_type": "display_data"
    }
   ],
   "source": [
    "def plot_well(well:str, filterset:str, last_cycle:int=None):\n",
    "    x, y = bldata[filterset].get_timeseries(well)\n",
    "    x = x[:last_cycle]\n",
    "    y = y[:last_cycle]\n",
    "    \n",
    "    spline = bletl_analysis._crossvalidate_smoothing_spline(x, y, method='ucss', bounds=(0,1.2), k_folds=10)\n",
    "    derivative = spline.derivative(1)\n",
    "    \n",
    "    # plotting\n",
    "    fig, (up, down) = pyplot.subplots(dpi=140, nrows=2, sharex='col')\n",
    "    up.scatter(x, y, s=.4, label='data')\n",
    "    up.plot(x, spline(x), label='spline', linewidth=0.5)\n",
    "    \n",
    "    down.axhline(0, color='gray', linewidth=1, linestyle=':')\n",
    "    d = numpy.linspace(0, x[-1], 1000)\n",
    "    down.plot(d, derivative(d), label='1st derivative')\n",
    "    \n",
    "    # formatting\n",
    "    #down.set_xlim(0, 23)\n",
    "    down.set_xlabel('time   [h]')\n",
    "    down.set_ylabel(f'd{filterset}/dt')\n",
    "    up.set_ylabel(filterset)\n",
    "    up.legend()\n",
    "    \n",
    "    pyplot.show()    \n",
    "    return\n",
    "\n",
    "ipywidgets.interact(\n",
    "    plot_well,\n",
    "    well=list(bldata['pH'].time.columns),\n",
    "    filterset=list(bldata.keys()),\n",
    "    last_cycle=range(10, len(bldata['pH'].time)+1)\n",
    ");"
   ]
  },
  {
   "cell_type": "code",
   "execution_count": null,
   "metadata": {},
   "outputs": [],
   "source": []
  }
 ],
 "metadata": {
  "kernelspec": {
   "display_name": "Python 3",
   "language": "python",
   "name": "python3"
  },
  "language_info": {
   "codemirror_mode": {
    "name": "ipython",
    "version": 3
   },
   "file_extension": ".py",
   "mimetype": "text/x-python",
   "name": "python",
   "nbconvert_exporter": "python",
   "pygments_lexer": "ipython3",
   "version": "3.7.3"
  }
 },
 "nbformat": 4,
 "nbformat_minor": 2
}
