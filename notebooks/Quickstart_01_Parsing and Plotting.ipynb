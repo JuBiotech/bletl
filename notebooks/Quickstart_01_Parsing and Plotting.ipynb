{
 "cells": [
  {
   "cell_type": "markdown",
   "metadata": {},
   "source": [
    "# Quickstart: Parsing and Plotting\n",
    "This example shows the most basic steps to get from a raw BioLector data file to an interactive visualization."
   ]
  },
  {
   "cell_type": "code",
   "execution_count": 1,
   "metadata": {
    "execution": {
     "iopub.execute_input": "2021-07-02T18:02:56.006173Z",
     "iopub.status.busy": "2021-07-02T18:02:56.006173Z",
     "iopub.status.idle": "2021-07-02T18:02:56.997290Z",
     "shell.execute_reply": "2021-07-02T18:02:56.997290Z"
    }
   },
   "outputs": [],
   "source": [
    "import pandas\n",
    "import ipywidgets\n",
    "from matplotlib import pyplot, cm\n",
    "\n",
    "import bletl"
   ]
  },
  {
   "cell_type": "markdown",
   "metadata": {},
   "source": [
    "In 98 % of the cases, you will use the `bletl.parse` function to load data.\n",
    "\n",
    "The function comes with a few arguments that you can use to override calibration settings if your raw data file for example does not specify the correct `lot_number`.\n",
    "\n",
    "To learn all about the different options, run `help(bletl.parse)` or `bletl.parse?`.\n",
    "\n",
    "## Parsing\n",
    "In this quickstart, we load a raw data file from the test suite:"
   ]
  },
  {
   "cell_type": "code",
   "execution_count": 2,
   "metadata": {
    "execution": {
     "iopub.execute_input": "2021-07-02T18:02:57.000257Z",
     "iopub.status.busy": "2021-07-02T18:02:57.000257Z",
     "iopub.status.idle": "2021-07-02T18:02:57.544252Z",
     "shell.execute_reply": "2021-07-02T18:02:57.545285Z"
    }
   },
   "outputs": [
    {
     "data": {
      "text/plain": [
       "BLData(model=BLPro) {\n",
       "  \"BS4\": FilterTimeSeries(197 cycles, 48 wells),\n",
       "  \"pH\": FilterTimeSeries(197 cycles, 48 wells),\n",
       "  \"DO\": FilterTimeSeries(197 cycles, 48 wells),\n",
       "  \"GFP-Gemini\": FilterTimeSeries(197 cycles, 48 wells),\n",
       "  \"eYFP - Citrine\": FilterTimeSeries(197 cycles, 48 wells),\n",
       "}"
      ]
     },
     "execution_count": 1,
     "metadata": {},
     "output_type": "execute_result"
    }
   ],
   "source": [
    "bldata = bletl.parse(r\"..\\tests\\data\\BLPro\\213-NT_1500rpm_30C_20min--2019-10-18-14-55-15.csv\")\n",
    "# just display the variable containing the data\n",
    "bldata"
   ]
  },
  {
   "cell_type": "markdown",
   "metadata": {},
   "source": [
    "As you can see in the above, the returned `BLData` object is a dictionary that maps identifiers of filtersets to `FilterTimeSeries` objects.\n",
    "\n",
    "## Metadata\n",
    "\n",
    "Additional properties, such as `comments`, `environment` or `filtersets` contain data that is not specific to a well:"
   ]
  },
  {
   "cell_type": "code",
   "execution_count": 3,
   "metadata": {
    "execution": {
     "iopub.execute_input": "2021-07-02T18:02:57.549254Z",
     "iopub.status.busy": "2021-07-02T18:02:57.548253Z",
     "iopub.status.idle": "2021-07-02T18:02:57.576204Z",
     "shell.execute_reply": "2021-07-02T18:02:57.576204Z"
    }
   },
   "outputs": [
    {
     "data": {
      "text/html": [
       "<div>\n",
       "<style scoped>\n",
       "    .dataframe tbody tr th:only-of-type {\n",
       "        vertical-align: middle;\n",
       "    }\n",
       "\n",
       "    .dataframe tbody tr th {\n",
       "        vertical-align: top;\n",
       "    }\n",
       "\n",
       "    .dataframe thead th {\n",
       "        text-align: right;\n",
       "    }\n",
       "</style>\n",
       "<table border=\"1\" class=\"dataframe\">\n",
       "  <thead>\n",
       "    <tr style=\"text-align: right;\">\n",
       "      <th></th>\n",
       "      <th>filter_number</th>\n",
       "      <th>filter_name</th>\n",
       "      <th>filter_id</th>\n",
       "      <th>filter_type</th>\n",
       "      <th>excitation</th>\n",
       "      <th>emission</th>\n",
       "      <th>gain</th>\n",
       "      <th>gain_1</th>\n",
       "      <th>gain_2</th>\n",
       "      <th>phase_statistic_sigma</th>\n",
       "      <th>signal_quality_tolerance</th>\n",
       "      <th>reference_gain</th>\n",
       "      <th>reference_value</th>\n",
       "      <th>calibration</th>\n",
       "      <th>emission2</th>\n",
       "    </tr>\n",
       "  </thead>\n",
       "  <tbody>\n",
       "    <tr>\n",
       "      <th>1</th>\n",
       "      <td>1</td>\n",
       "      <td>Biomass4</td>\n",
       "      <td>201</td>\n",
       "      <td>Intensity</td>\n",
       "      <td>None</td>\n",
       "      <td>None</td>\n",
       "      <td>NaN</td>\n",
       "      <td>4.0</td>\n",
       "      <td>1.0</td>\n",
       "      <td>None</td>\n",
       "      <td>None</td>\n",
       "      <td>NaN</td>\n",
       "      <td>NaN</td>\n",
       "      <td></td>\n",
       "      <td>None</td>\n",
       "    </tr>\n",
       "    <tr>\n",
       "      <th>2</th>\n",
       "      <td>2</td>\n",
       "      <td>pH(HP8)</td>\n",
       "      <td>202</td>\n",
       "      <td>pH</td>\n",
       "      <td>None</td>\n",
       "      <td>None</td>\n",
       "      <td>7.0</td>\n",
       "      <td>7.0</td>\n",
       "      <td>1.0</td>\n",
       "      <td>None</td>\n",
       "      <td>None</td>\n",
       "      <td>NaN</td>\n",
       "      <td>100.000000</td>\n",
       "      <td>1924_comp</td>\n",
       "      <td>None</td>\n",
       "    </tr>\n",
       "    <tr>\n",
       "      <th>3</th>\n",
       "      <td>3</td>\n",
       "      <td>DO(PSt3)</td>\n",
       "      <td>203</td>\n",
       "      <td>DO</td>\n",
       "      <td>None</td>\n",
       "      <td>None</td>\n",
       "      <td>7.0</td>\n",
       "      <td>7.0</td>\n",
       "      <td>1.0</td>\n",
       "      <td>None</td>\n",
       "      <td>None</td>\n",
       "      <td>NaN</td>\n",
       "      <td>100.000000</td>\n",
       "      <td>1924_comp</td>\n",
       "      <td>None</td>\n",
       "    </tr>\n",
       "    <tr>\n",
       "      <th>4</th>\n",
       "      <td>4</td>\n",
       "      <td>GFP-Gemini</td>\n",
       "      <td>204</td>\n",
       "      <td>Intensity</td>\n",
       "      <td>None</td>\n",
       "      <td>None</td>\n",
       "      <td>NaN</td>\n",
       "      <td>7.0</td>\n",
       "      <td>1.0</td>\n",
       "      <td>None</td>\n",
       "      <td>None</td>\n",
       "      <td>3.0</td>\n",
       "      <td>135.641129</td>\n",
       "      <td></td>\n",
       "      <td>None</td>\n",
       "    </tr>\n",
       "    <tr>\n",
       "      <th>5</th>\n",
       "      <td>5</td>\n",
       "      <td>eYFP - Citrine</td>\n",
       "      <td>215</td>\n",
       "      <td>Intensity</td>\n",
       "      <td>None</td>\n",
       "      <td>None</td>\n",
       "      <td>NaN</td>\n",
       "      <td>7.0</td>\n",
       "      <td>1.0</td>\n",
       "      <td>None</td>\n",
       "      <td>None</td>\n",
       "      <td>6.0</td>\n",
       "      <td>160.436661</td>\n",
       "      <td></td>\n",
       "      <td>None</td>\n",
       "    </tr>\n",
       "  </tbody>\n",
       "</table>\n",
       "</div>"
      ],
      "text/plain": [
       "   filter_number     filter_name filter_id filter_type excitation emission  \\\n",
       "1              1        Biomass4       201   Intensity       None     None   \n",
       "2              2         pH(HP8)       202          pH       None     None   \n",
       "3              3        DO(PSt3)       203          DO       None     None   \n",
       "4              4      GFP-Gemini       204   Intensity       None     None   \n",
       "5              5  eYFP - Citrine       215   Intensity       None     None   \n",
       "\n",
       "   gain  gain_1  gain_2 phase_statistic_sigma signal_quality_tolerance  \\\n",
       "1   NaN     4.0     1.0                  None                     None   \n",
       "2   7.0     7.0     1.0                  None                     None   \n",
       "3   7.0     7.0     1.0                  None                     None   \n",
       "4   NaN     7.0     1.0                  None                     None   \n",
       "5   NaN     7.0     1.0                  None                     None   \n",
       "\n",
       "   reference_gain  reference_value calibration emission2  \n",
       "1             NaN              NaN                  None  \n",
       "2             NaN       100.000000   1924_comp      None  \n",
       "3             NaN       100.000000   1924_comp      None  \n",
       "4             3.0       135.641129                  None  \n",
       "5             6.0       160.436661                  None  "
      ]
     },
     "execution_count": 1,
     "metadata": {},
     "output_type": "execute_result"
    }
   ],
   "source": [
    "bldata.filtersets.head()"
   ]
  },
  {
   "cell_type": "code",
   "execution_count": 4,
   "metadata": {
    "execution": {
     "iopub.execute_input": "2021-07-02T18:02:57.588235Z",
     "iopub.status.busy": "2021-07-02T18:02:57.587234Z",
     "iopub.status.idle": "2021-07-02T18:02:57.590076Z",
     "shell.execute_reply": "2021-07-02T18:02:57.591116Z"
    }
   },
   "outputs": [
    {
     "data": {
      "text/html": [
       "<div>\n",
       "<style scoped>\n",
       "    .dataframe tbody tr th:only-of-type {\n",
       "        vertical-align: middle;\n",
       "    }\n",
       "\n",
       "    .dataframe tbody tr th {\n",
       "        vertical-align: top;\n",
       "    }\n",
       "\n",
       "    .dataframe thead th {\n",
       "        text-align: right;\n",
       "    }\n",
       "</style>\n",
       "<table border=\"1\" class=\"dataframe\">\n",
       "  <thead>\n",
       "    <tr style=\"text-align: right;\">\n",
       "      <th></th>\n",
       "      <th>cycle</th>\n",
       "      <th>time</th>\n",
       "      <th>temp_setpoint</th>\n",
       "      <th>temp_up</th>\n",
       "      <th>temp_down</th>\n",
       "      <th>temp_water</th>\n",
       "      <th>o2</th>\n",
       "      <th>co2</th>\n",
       "      <th>humidity</th>\n",
       "      <th>shaker_setpoint</th>\n",
       "      <th>shaker_actual</th>\n",
       "    </tr>\n",
       "  </thead>\n",
       "  <tbody>\n",
       "    <tr>\n",
       "      <th>5</th>\n",
       "      <td>1</td>\n",
       "      <td>0.013056</td>\n",
       "      <td>None</td>\n",
       "      <td>28.6</td>\n",
       "      <td>29.3</td>\n",
       "      <td>27.8</td>\n",
       "      <td>25.02</td>\n",
       "      <td>-9999.0</td>\n",
       "      <td>76.17</td>\n",
       "      <td>None</td>\n",
       "      <td>1500.0</td>\n",
       "    </tr>\n",
       "    <tr>\n",
       "      <th>156</th>\n",
       "      <td>1</td>\n",
       "      <td>0.076389</td>\n",
       "      <td>None</td>\n",
       "      <td>29.9</td>\n",
       "      <td>29.9</td>\n",
       "      <td>30.4</td>\n",
       "      <td>33.20</td>\n",
       "      <td>-9999.0</td>\n",
       "      <td>84.86</td>\n",
       "      <td>None</td>\n",
       "      <td>1500.0</td>\n",
       "    </tr>\n",
       "    <tr>\n",
       "      <th>207</th>\n",
       "      <td>1</td>\n",
       "      <td>0.095833</td>\n",
       "      <td>None</td>\n",
       "      <td>29.9</td>\n",
       "      <td>29.9</td>\n",
       "      <td>31.9</td>\n",
       "      <td>34.42</td>\n",
       "      <td>-9999.0</td>\n",
       "      <td>85.36</td>\n",
       "      <td>None</td>\n",
       "      <td>1499.0</td>\n",
       "    </tr>\n",
       "    <tr>\n",
       "      <th>285</th>\n",
       "      <td>2</td>\n",
       "      <td>0.346389</td>\n",
       "      <td>None</td>\n",
       "      <td>30.0</td>\n",
       "      <td>29.9</td>\n",
       "      <td>31.0</td>\n",
       "      <td>35.01</td>\n",
       "      <td>-9999.0</td>\n",
       "      <td>85.09</td>\n",
       "      <td>None</td>\n",
       "      <td>1499.0</td>\n",
       "    </tr>\n",
       "    <tr>\n",
       "      <th>436</th>\n",
       "      <td>2</td>\n",
       "      <td>0.409167</td>\n",
       "      <td>None</td>\n",
       "      <td>29.9</td>\n",
       "      <td>29.9</td>\n",
       "      <td>32.9</td>\n",
       "      <td>35.10</td>\n",
       "      <td>-9999.0</td>\n",
       "      <td>85.71</td>\n",
       "      <td>None</td>\n",
       "      <td>1500.0</td>\n",
       "    </tr>\n",
       "  </tbody>\n",
       "</table>\n",
       "</div>"
      ],
      "text/plain": [
       "     cycle      time temp_setpoint  temp_up  temp_down  temp_water     o2  \\\n",
       "5        1  0.013056          None     28.6       29.3        27.8  25.02   \n",
       "156      1  0.076389          None     29.9       29.9        30.4  33.20   \n",
       "207      1  0.095833          None     29.9       29.9        31.9  34.42   \n",
       "285      2  0.346389          None     30.0       29.9        31.0  35.01   \n",
       "436      2  0.409167          None     29.9       29.9        32.9  35.10   \n",
       "\n",
       "        co2  humidity shaker_setpoint  shaker_actual  \n",
       "5   -9999.0     76.17            None         1500.0  \n",
       "156 -9999.0     84.86            None         1500.0  \n",
       "207 -9999.0     85.36            None         1499.0  \n",
       "285 -9999.0     85.09            None         1499.0  \n",
       "436 -9999.0     85.71            None         1500.0  "
      ]
     },
     "execution_count": 1,
     "metadata": {},
     "output_type": "execute_result"
    }
   ],
   "source": [
    "bldata.environment.head()"
   ]
  },
  {
   "cell_type": "markdown",
   "metadata": {},
   "source": [
    "## Accessing and Visualizing Measurements\n",
    "Depending on what you want to do, you can retrieve measurement data as tuples of Numpy arrays:\n",
    "+ `bldata.get_timeseries`\n",
    "+ `bldata[\"pH\"].get_timeseries`\n",
    "\n",
    "or as pandas DataFrames:\n",
    "+ `bldata.get_narrow_data`\n",
    "+ `bldata.get_unified_narrow_data`\n",
    "+ `bldata[\"pH\"].get_unified_dataframe`\n",
    "\n",
    "or via the underlying DataFrames that separate time and value:\n",
    "+ `bldata[\"pH\"].time`\n",
    "+ `bldata[\"pH\"].value`"
   ]
  },
  {
   "cell_type": "code",
   "execution_count": 5,
   "metadata": {
    "execution": {
     "iopub.execute_input": "2021-07-02T18:02:57.603085Z",
     "iopub.status.busy": "2021-07-02T18:02:57.598085Z",
     "iopub.status.idle": "2021-07-02T18:02:57.732615Z",
     "shell.execute_reply": "2021-07-02T18:02:57.732615Z"
    }
   },
   "outputs": [
    {
     "data": {
      "image/png": "[encoded data removed]",
      "text/plain": [
       "<Figure size 432x288 with 1 Axes>"
      ]
     },
     "metadata": {
      "needs_background": "light"
     },
     "output_type": "display_data"
    }
   ],
   "source": [
    "# here we retrieve it as numpy arrays, becase that's very convenient for plotting\n",
    "t, bs = bldata.get_timeseries(\"BS4\", \"A02\")\n",
    "\n",
    "pyplot.scatter(t, bs)\n",
    "pyplot.xlabel('time   [h]')\n",
    "pyplot.ylabel('backscatter 3')\n",
    "pyplot.show()"
   ]
  },
  {
   "cell_type": "markdown",
   "metadata": {},
   "source": [
    "### Interactivity\n",
    "With the `ipywidgets` package, one can easily create interactive visualizations.\n",
    "\n",
    "Here, the plotting code from above is wrapped into a `plot_one_well` function that takes `filterset` and `well` as arguments.\n",
    "\n",
    "The `ipywidgets.interact` or `ipywidgets.interact_manual` function is then used to create an interactive visualization, where all the available filtersets/wells are passed as options."
   ]
  },
  {
   "cell_type": "code",
   "execution_count": 6,
   "metadata": {
    "execution": {
     "iopub.execute_input": "2021-07-02T18:02:57.753615Z",
     "iopub.status.busy": "2021-07-02T18:02:57.753615Z",
     "iopub.status.idle": "2021-07-02T18:02:57.873189Z",
     "shell.execute_reply": "2021-07-02T18:02:57.871235Z"
    }
   },
   "outputs": [
    {
     "data": {
      "application/vnd.jupyter.widget-view+json": {
       "model_id": "cf4d285daa01427085d88d67af3a7e89",
       "version_major": 2,
       "version_minor": 0
      },
      "text/plain": [
       "interactive(children=(Dropdown(description='filterset', options=('BS4', 'pH', 'DO', 'GFP-Gemini', 'eYFP - Citr…"
      ]
     },
     "metadata": {},
     "output_type": "display_data"
    },
    {
     "data": {
      "text/plain": [
       "<function __main__.plot_one_well(filterset, well)>"
      ]
     },
     "execution_count": 1,
     "metadata": {},
     "output_type": "execute_result"
    }
   ],
   "source": [
    "def plot_one_well(filterset, well):\n",
    "    time, value = bldata.get_timeseries(filterset, well)\n",
    "    \n",
    "    fig, ax = pyplot.subplots()\n",
    "    ax.scatter(time, value)\n",
    "    ax.set_ylabel(filterset)\n",
    "    ax.set_xlabel(\"time   [h]\")\n",
    "    ax.set_title(well)\n",
    "    pyplot.show()\n",
    "    return\n",
    "\n",
    "ipywidgets.interact(\n",
    "    plot_one_well,\n",
    "    filterset=list(bldata.keys()),\n",
    "    well=list(bldata[\"pH\"].time.columns),\n",
    ");"
   ]
  },
  {
   "cell_type": "markdown",
   "metadata": {},
   "source": [
    "That's it with the basic tutorial!\n",
    "To learn more about what `bletl` can do, checkout the other examples.\n",
    "\n",
    "Also remember to use `help(...)` and `dir(...)` to read the attributes/methods/docstrings. They often contain more detailed information than example notebooks."
   ]
  },
  {
   "cell_type": "code",
   "execution_count": 7,
   "metadata": {
    "execution": {
     "iopub.execute_input": "2021-07-02T18:02:57.876190Z",
     "iopub.status.busy": "2021-07-02T18:02:57.876190Z",
     "iopub.status.idle": "2021-07-02T18:02:57.903219Z",
     "shell.execute_reply": "2021-07-02T18:02:57.902223Z"
    }
   },
   "outputs": [
    {
     "name": "stdout",
     "output_type": "stream",
     "text": [
      "Last updated: Fri Jul 02 2021\n",
      "\n",
      "Python implementation: CPython\n",
      "Python version       : 3.7.9\n",
      "IPython version      : 7.19.0\n",
      "\n",
      "pandas    : 1.2.1\n",
      "bletl     : 1.0.0\n",
      "matplotlib: 3.3.2\n",
      "ipywidgets: 7.6.3\n",
      "\n",
      "Watermark: 2.1.0\n",
      "\n"
     ]
    }
   ],
   "source": [
    "%load_ext watermark\n",
    "%watermark -n -u -v -iv -w"
   ]
  },
  {
   "cell_type": "code",
   "execution_count": null,
   "metadata": {},
   "outputs": [],
   "source": []
  }
 ],
 "metadata": {
  "kernelspec": {
   "display_name": "Python 3",
   "language": "python",
   "name": "python3"
  },
  "language_info": {
   "codemirror_mode": {
    "name": "ipython",
    "version": 3
   },
   "file_extension": ".py",
   "mimetype": "text/x-python",
   "name": "python",
   "nbconvert_exporter": "python",
   "pygments_lexer": "ipython3",
   "version": "3.7.9"
  },
  "widgets": {
   "application/vnd.jupyter.widget-state+json": {
    "state": {
     "0ce04a321ef4442980e216242d8244dc": {
      "model_module": "@jupyter-widgets/base",
      "model_module_version": "1.2.0",
      "model_name": "LayoutModel",
      "state": {
       "_model_module": "@jupyter-widgets/base",
       "_model_module_version": "1.2.0",
       "_model_name": "LayoutModel",
       "_view_count": null,
       "_view_module": "@jupyter-widgets/base",
       "_view_module_version": "1.2.0",
       "_view_name": "LayoutView",
       "align_content": null,
       "align_items": null,
       "align_self": null,
       "border": null,
       "bottom": null,
       "display": null,
       "flex": null,
       "flex_flow": null,
       "grid_area": null,
       "grid_auto_columns": null,
       "grid_auto_flow": null,
       "grid_auto_rows": null,
       "grid_column": null,
       "grid_gap": null,
       "grid_row": null,
       "grid_template_areas": null,
       "grid_template_columns": null,
       "grid_template_rows": null,
       "height": null,
       "justify_content": null,
       "justify_items": null,
       "left": null,
       "margin": null,
       "max_height": null,
       "max_width": null,
       "min_height": null,
       "min_width": null,
       "object_fit": null,
       "object_position": null,
       "order": null,
       "overflow": null,
       "overflow_x": null,
       "overflow_y": null,
       "padding": null,
       "right": null,
       "top": null,
       "visibility": null,
       "width": null
      }
     },
     "24e16447b3fb4fc391f24d520512fe26": {
      "model_module": "@jupyter-widgets/base",
      "model_module_version": "1.2.0",
      "model_name": "LayoutModel",
      "state": {
       "_model_module": "@jupyter-widgets/base",
       "_model_module_version": "1.2.0",
       "_model_name": "LayoutModel",
       "_view_count": null,
       "_view_module": "@jupyter-widgets/base",
       "_view_module_version": "1.2.0",
       "_view_name": "LayoutView",
       "align_content": null,
       "align_items": null,
       "align_self": null,
       "border": null,
       "bottom": null,
       "display": null,
       "flex": null,
       "flex_flow": null,
       "grid_area": null,
       "grid_auto_columns": null,
       "grid_auto_flow": null,
       "grid_auto_rows": null,
       "grid_column": null,
       "grid_gap": null,
       "grid_row": null,
       "grid_template_areas": null,
       "grid_template_columns": null,
       "grid_template_rows": null,
       "height": null,
       "justify_content": null,
       "justify_items": null,
       "left": null,
       "margin": null,
       "max_height": null,
       "max_width": null,
       "min_height": null,
       "min_width": null,
       "object_fit": null,
       "object_position": null,
       "order": null,
       "overflow": null,
       "overflow_x": null,
       "overflow_y": null,
       "padding": null,
       "right": null,
       "top": null,
       "visibility": null,
       "width": null
      }
     },
     "5c52908355a548b58b648554a292b5be": {
      "model_module": "@jupyter-widgets/base",
      "model_module_version": "1.2.0",
      "model_name": "LayoutModel",
      "state": {
       "_model_module": "@jupyter-widgets/base",
       "_model_module_version": "1.2.0",
       "_model_name": "LayoutModel",
       "_view_count": null,
       "_view_module": "@jupyter-widgets/base",
       "_view_module_version": "1.2.0",
       "_view_name": "LayoutView",
       "align_content": null,
       "align_items": null,
       "align_self": null,
       "border": null,
       "bottom": null,
       "display": null,
       "flex": null,
       "flex_flow": null,
       "grid_area": null,
       "grid_auto_columns": null,
       "grid_auto_flow": null,
       "grid_auto_rows": null,
       "grid_column": null,
       "grid_gap": null,
       "grid_row": null,
       "grid_template_areas": null,
       "grid_template_columns": null,
       "grid_template_rows": null,
       "height": null,
       "justify_content": null,
       "justify_items": null,
       "left": null,
       "margin": null,
       "max_height": null,
       "max_width": null,
       "min_height": null,
       "min_width": null,
       "object_fit": null,
       "object_position": null,
       "order": null,
       "overflow": null,
       "overflow_x": null,
       "overflow_y": null,
       "padding": null,
       "right": null,
       "top": null,
       "visibility": null,
       "width": null
      }
     },
     "62ab540496de4f3eb3da957141c465b7": {
      "model_module": "@jupyter-widgets/controls",
      "model_module_version": "1.5.0",
      "model_name": "DropdownModel",
      "state": {
       "_dom_classes": [],
       "_model_module": "@jupyter-widgets/controls",
       "_model_module_version": "1.5.0",
       "_model_name": "DropdownModel",
       "_options_labels": [
        "BS4",
        "pH",
        "DO",
        "GFP-Gemini",
        "eYFP - Citrine"
       ],
       "_view_count": null,
       "_view_module": "@jupyter-widgets/controls",
       "_view_module_version": "1.5.0",
       "_view_name": "DropdownView",
       "description": "filterset",
       "description_tooltip": null,
       "disabled": false,
       "index": 0,
       "layout": "IPY_MODEL_5c52908355a548b58b648554a292b5be",
       "style": "IPY_MODEL_7435498bb6e84f209ea59094aeb6fcc4"
      }
     },
     "715a744e1d214578a697cfb4866aa24b": {
      "model_module": "@jupyter-widgets/base",
      "model_module_version": "1.2.0",
      "model_name": "LayoutModel",
      "state": {
       "_model_module": "@jupyter-widgets/base",
       "_model_module_version": "1.2.0",
       "_model_name": "LayoutModel",
       "_view_count": null,
       "_view_module": "@jupyter-widgets/base",
       "_view_module_version": "1.2.0",
       "_view_name": "LayoutView",
       "align_content": null,
       "align_items": null,
       "align_self": null,
       "border": null,
       "bottom": null,
       "display": null,
       "flex": null,
       "flex_flow": null,
       "grid_area": null,
       "grid_auto_columns": null,
       "grid_auto_flow": null,
       "grid_auto_rows": null,
       "grid_column": null,
       "grid_gap": null,
       "grid_row": null,
       "grid_template_areas": null,
       "grid_template_columns": null,
       "grid_template_rows": null,
       "height": null,
       "justify_content": null,
       "justify_items": null,
       "left": null,
       "margin": null,
       "max_height": null,
       "max_width": null,
       "min_height": null,
       "min_width": null,
       "object_fit": null,
       "object_position": null,
       "order": null,
       "overflow": null,
       "overflow_x": null,
       "overflow_y": null,
       "padding": null,
       "right": null,
       "top": null,
       "visibility": null,
       "width": null
      }
     },
     "7435498bb6e84f209ea59094aeb6fcc4": {
      "model_module": "@jupyter-widgets/controls",
      "model_module_version": "1.5.0",
      "model_name": "DescriptionStyleModel",
      "state": {
       "_model_module": "@jupyter-widgets/controls",
       "_model_module_version": "1.5.0",
       "_model_name": "DescriptionStyleModel",
       "_view_count": null,
       "_view_module": "@jupyter-widgets/base",
       "_view_module_version": "1.2.0",
       "_view_name": "StyleView",
       "description_width": ""
      }
     },
     "b16b90c2fe774151b4ccf18d86c46356": {
      "model_module": "@jupyter-widgets/output",
      "model_module_version": "1.0.0",
      "model_name": "OutputModel",
      "state": {
       "_dom_classes": [],
       "_model_module": "@jupyter-widgets/output",
       "_model_module_version": "1.0.0",
       "_model_name": "OutputModel",
       "_view_count": null,
       "_view_module": "@jupyter-widgets/output",
       "_view_module_version": "1.0.0",
       "_view_name": "OutputView",
       "layout": "IPY_MODEL_715a744e1d214578a697cfb4866aa24b",
       "msg_id": "",
       "outputs": [
        {
         "data": {
          "image/png": "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\n",
          "text/plain": "<Figure size 432x288 with 1 Axes>"
         },
         "metadata": {
          "needs_background": "light"
         },
         "output_type": "display_data"
        }
       ]
      }
     },
     "b63feecd7ddb4e609dc7d1f537a529d0": {
      "model_module": "@jupyter-widgets/controls",
      "model_module_version": "1.5.0",
      "model_name": "DropdownModel",
      "state": {
       "_dom_classes": [],
       "_model_module": "@jupyter-widgets/controls",
       "_model_module_version": "1.5.0",
       "_model_name": "DropdownModel",
       "_options_labels": [
        "A01",
        "A02",
        "A03",
        "A04",
        "A05",
        "A06",
        "A07",
        "A08",
        "B01",
        "B02",
        "B03",
        "B04",
        "B05",
        "B06",
        "B07",
        "B08",
        "C01",
        "C02",
        "C03",
        "C04",
        "C05",
        "C06",
        "C07",
        "C08",
        "D01",
        "D02",
        "D03",
        "D04",
        "D05",
        "D06",
        "D07",
        "D08",
        "E01",
        "E02",
        "E03",
        "E04",
        "E05",
        "E06",
        "E07",
        "E08",
        "F01",
        "F02",
        "F03",
        "F04",
        "F05",
        "F06",
        "F07",
        "F08"
       ],
       "_view_count": null,
       "_view_module": "@jupyter-widgets/controls",
       "_view_module_version": "1.5.0",
       "_view_name": "DropdownView",
       "description": "well",
       "description_tooltip": null,
       "disabled": false,
       "index": 0,
       "layout": "IPY_MODEL_0ce04a321ef4442980e216242d8244dc",
       "style": "IPY_MODEL_d11dff70ed384bd895302d17f04361e8"
      }
     },
     "cf4d285daa01427085d88d67af3a7e89": {
      "model_module": "@jupyter-widgets/controls",
      "model_module_version": "1.5.0",
      "model_name": "VBoxModel",
      "state": {
       "_dom_classes": [
        "widget-interact"
       ],
       "_model_module": "@jupyter-widgets/controls",
       "_model_module_version": "1.5.0",
       "_model_name": "VBoxModel",
       "_view_count": null,
       "_view_module": "@jupyter-widgets/controls",
       "_view_module_version": "1.5.0",
       "_view_name": "VBoxView",
       "box_style": "",
       "children": [
        "IPY_MODEL_62ab540496de4f3eb3da957141c465b7",
        "IPY_MODEL_b63feecd7ddb4e609dc7d1f537a529d0",
        "IPY_MODEL_b16b90c2fe774151b4ccf18d86c46356"
       ],
       "layout": "IPY_MODEL_24e16447b3fb4fc391f24d520512fe26"
      }
     },
     "d11dff70ed384bd895302d17f04361e8": {
      "model_module": "@jupyter-widgets/controls",
      "model_module_version": "1.5.0",
      "model_name": "DescriptionStyleModel",
      "state": {
       "_model_module": "@jupyter-widgets/controls",
       "_model_module_version": "1.5.0",
       "_model_name": "DescriptionStyleModel",
       "_view_count": null,
       "_view_module": "@jupyter-widgets/base",
       "_view_module_version": "1.2.0",
       "_view_name": "StyleView",
       "description_width": ""
      }
     }
    },
    "version_major": 2,
    "version_minor": 0
   }
  }
 },
 "nbformat": 4,
 "nbformat_minor": 4
}
