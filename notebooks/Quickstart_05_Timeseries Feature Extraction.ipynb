{
 "cells": [
  {
   "cell_type": "markdown",
   "metadata": {},
   "source": [
    "# Quickstart: Timeseries Feature Extraction\n",
    "Some data sets are big enough and structurally suitable to apply machine learning methods.\n",
    "Timeseries data, however can not be fed into most machine learning algorithms directly.\n",
    "\n",
    "With `bletl.features`, you can apply a mix of biologically inspired and statistical methods to extract hundreds of features from timeseries of backscatter, pH and DO.\n",
    "\n",
    "Under the hood, `bletl.features` uses [`tsfresh`](https://tsfresh.readthedocs.io) and combines it with an extendable API that you may use to provide additional custom designed feature extraction methods."
   ]
  },
  {
   "cell_type": "code",
   "execution_count": 1,
   "metadata": {
    "execution": {
     "iopub.execute_input": "2021-07-02T19:21:50.813450Z",
     "iopub.status.busy": "2021-07-02T19:21:50.813450Z",
     "iopub.status.idle": "2021-07-02T19:21:52.495388Z",
     "shell.execute_reply": "2021-07-02T19:21:52.494357Z"
    }
   },
   "outputs": [],
   "source": [
    "import pandas\n",
    "import pathlib\n",
    "from IPython.display import display\n",
    "\n",
    "import bletl\n",
    "from bletl import features"
   ]
  },
  {
   "cell_type": "markdown",
   "metadata": {},
   "source": [
    "## Parse the raw data file"
   ]
  },
  {
   "cell_type": "code",
   "execution_count": 2,
   "metadata": {
    "execution": {
     "iopub.execute_input": "2021-07-02T19:21:52.499387Z",
     "iopub.status.busy": "2021-07-02T19:21:52.498394Z",
     "iopub.status.idle": "2021-07-02T19:21:52.745713Z",
     "shell.execute_reply": "2021-07-02T19:21:52.745713Z"
    }
   },
   "outputs": [],
   "source": [
    "filepath = pathlib.Path(r\"..\\tests\\data\\BL1\\NT_1200rpm_30C_DO-GFP75-pH-BS10_12min_20171221_121339.csv\")\n",
    "bldata = bletl.parse(filepath, lot_number=1515, temp=30)"
   ]
  },
  {
   "cell_type": "markdown",
   "metadata": {},
   "source": [
    "## Feature Extraction\n",
    "You'll need to provide a list of `Extractor` objects for each filterset you want to extract from.\n",
    "\n",
    "Additionally, you can specify the `last_cycle` after which the timeseries will be ignored, for example because of sacrifice sampling."
   ]
  },
  {
   "cell_type": "code",
   "execution_count": 3,
   "metadata": {
    "execution": {
     "iopub.execute_input": "2021-07-02T19:21:52.749713Z",
     "iopub.status.busy": "2021-07-02T19:21:52.749713Z",
     "iopub.status.idle": "2021-07-02T19:21:52.759890Z",
     "shell.execute_reply": "2021-07-02T19:21:52.760890Z"
    }
   },
   "outputs": [],
   "source": [
    "extractors = {\n",
    "    \"BS10\" : [features.BSFeatureExtractor(), features.StatisticalFeatureExtractor(), features.TSFreshExtractor()],\n",
    "    \"pH\" : [features.pHFeatureExtractor(), features.StatisticalFeatureExtractor(), features.TSFreshExtractor()],\n",
    "    \"DO\" : [features.DOFeatureExtractor(), features.StatisticalFeatureExtractor(), features.TSFreshExtractor()],\n",
    "}\n",
    "last_cycles = {\n",
    "    \"A01\" : 20,\n",
    "    \"B01\" : 50\n",
    "}"
   ]
  },
  {
   "cell_type": "markdown",
   "metadata": {},
   "source": [
    "The feature extraction itself takes a while. In this case roughly 3 minutes for all 48 wells."
   ]
  },
  {
   "cell_type": "code",
   "execution_count": 4,
   "metadata": {
    "execution": {
     "iopub.execute_input": "2021-07-02T19:21:52.765890Z",
     "iopub.status.busy": "2021-07-02T19:21:52.764920Z",
     "iopub.status.idle": "2021-07-02T19:24:34.751477Z",
     "shell.execute_reply": "2021-07-02T19:24:34.752508Z"
    },
    "scrolled": true
   },
   "outputs": [
    {
     "data": {
      "text/html": [
       "\n",
       "    <div>\n",
       "        <style>\n",
       "            /* Turns off some styling */\n",
       "            progress {\n",
       "                /* gets rid of default border in Firefox and Opera. */\n",
       "                border: none;\n",
       "                /* Needs to be in here for Safari polyfill so background images work as expected. */\n",
       "                background-size: auto;\n",
       "            }\n",
       "            .progress-bar-interrupted, .progress-bar-interrupted::-webkit-progress-bar {\n",
       "                background: #F44336;\n",
       "            }\n",
       "        </style>\n",
       "      <progress value='48' class='' max='48' style='width:300px; height:20px; vertical-align: middle;'></progress>\n",
       "      100.00% [48/48 02:31<00:00]\n",
       "    </div>\n",
       "    "
      ],
      "text/plain": [
       "<IPython.core.display.HTML object>"
      ]
     },
     "metadata": {},
     "output_type": "display_data"
    },
    {
     "name": "stderr",
     "output_type": "stream",
     "text": [
      "Feature Extraction: 100%|███████████████████████████████████████████████████████████████████████████████████████████████████████████████████████████████████████████████████████| 12/12 [00:03<00:00,  3.97it/s]\n",
      "Feature Extraction: 100%|███████████████████████████████████████████████████████████████████████████████████████████████████████████████████████████████████████████████████████| 12/12 [00:03<00:00,  3.84it/s]\n",
      "Feature Extraction: 100%|███████████████████████████████████████████████████████████████████████████████████████████████████████████████████████████████████████████████████████| 12/12 [00:03<00:00,  3.98it/s]\n"
     ]
    }
   ],
   "source": [
    "extracted_features = features.from_bldata(\n",
    "    bldata=bldata,\n",
    "    extractors=extractors,\n",
    "    last_cycles=last_cycles\n",
    ")"
   ]
  },
  {
   "cell_type": "markdown",
   "metadata": {},
   "source": [
    "### Show extracted data\n",
    "The extracted data is a big `DataFrame`, indexed by well ID.\n",
    "Each column starts with the name of the filterset from which the data was analyzed, followed by a double underscore and the name of the extracted feature.\n",
    "\n",
    "For `tsfresh`-derived features, you'll have to look up the meaning of the features in their documentation."
   ]
  },
  {
   "cell_type": "code",
   "execution_count": 5,
   "metadata": {
    "execution": {
     "iopub.execute_input": "2021-07-02T19:24:34.756476Z",
     "iopub.status.busy": "2021-07-02T19:24:34.755478Z",
     "iopub.status.idle": "2021-07-02T19:24:34.782560Z",
     "shell.execute_reply": "2021-07-02T19:24:34.783589Z"
    }
   },
   "outputs": [
    {
     "data": {
      "text/html": [
       "<div>\n",
       "<style scoped>\n",
       "    .dataframe tbody tr th:only-of-type {\n",
       "        vertical-align: middle;\n",
       "    }\n",
       "\n",
       "    .dataframe tbody tr th {\n",
       "        vertical-align: top;\n",
       "    }\n",
       "\n",
       "    .dataframe thead th {\n",
       "        text-align: right;\n",
       "    }\n",
       "</style>\n",
       "<table border=\"1\" class=\"dataframe\">\n",
       "  <thead>\n",
       "    <tr style=\"text-align: right;\">\n",
       "      <th></th>\n",
       "      <th>BS10__inflection_point_t</th>\n",
       "      <th>BS10__inflection_point_y</th>\n",
       "      <th>BS10__mue_median</th>\n",
       "      <th>BS10__max</th>\n",
       "      <th>BS10__mean</th>\n",
       "      <th>BS10__median</th>\n",
       "      <th>BS10__min</th>\n",
       "      <th>BS10__span</th>\n",
       "      <th>BS10__stan_dev</th>\n",
       "      <th>BS10__time_max</th>\n",
       "      <th>...</th>\n",
       "      <th>DO_x__fourier_entropy__bins_2</th>\n",
       "      <th>DO_x__fourier_entropy__bins_3</th>\n",
       "      <th>DO_x__fourier_entropy__bins_5</th>\n",
       "      <th>DO_x__fourier_entropy__bins_10</th>\n",
       "      <th>DO_x__fourier_entropy__bins_100</th>\n",
       "      <th>DO_x__permutation_entropy__dimension_3__tau_1</th>\n",
       "      <th>DO_x__permutation_entropy__dimension_4__tau_1</th>\n",
       "      <th>DO_x__permutation_entropy__dimension_5__tau_1</th>\n",
       "      <th>DO_x__permutation_entropy__dimension_6__tau_1</th>\n",
       "      <th>DO_x__permutation_entropy__dimension_7__tau_1</th>\n",
       "    </tr>\n",
       "  </thead>\n",
       "  <tbody>\n",
       "    <tr>\n",
       "      <th>A01</th>\n",
       "      <td>15.502713</td>\n",
       "      <td>3.93831</td>\n",
       "      <td>1.533980</td>\n",
       "      <td>15.589340</td>\n",
       "      <td>13.236223</td>\n",
       "      <td>12.942862</td>\n",
       "      <td>11.786574</td>\n",
       "      <td>3.802765</td>\n",
       "      <td>1.135330</td>\n",
       "      <td>3.93831</td>\n",
       "      <td>...</td>\n",
       "      <td>0.304636</td>\n",
       "      <td>0.600166</td>\n",
       "      <td>1.033562</td>\n",
       "      <td>1.468140</td>\n",
       "      <td>2.397895</td>\n",
       "      <td>1.613392</td>\n",
       "      <td>2.196756</td>\n",
       "      <td>2.566599</td>\n",
       "      <td>2.615631</td>\n",
       "      <td>2.639057</td>\n",
       "    </tr>\n",
       "    <tr>\n",
       "      <th>A02</th>\n",
       "      <td>114.049172</td>\n",
       "      <td>22.02844</td>\n",
       "      <td>0.512476</td>\n",
       "      <td>114.049172</td>\n",
       "      <td>43.789110</td>\n",
       "      <td>37.938058</td>\n",
       "      <td>10.662952</td>\n",
       "      <td>103.386220</td>\n",
       "      <td>27.608253</td>\n",
       "      <td>22.02844</td>\n",
       "      <td>...</td>\n",
       "      <td>0.220570</td>\n",
       "      <td>0.257292</td>\n",
       "      <td>0.474328</td>\n",
       "      <td>0.474328</td>\n",
       "      <td>1.781950</td>\n",
       "      <td>1.728323</td>\n",
       "      <td>2.901951</td>\n",
       "      <td>3.792271</td>\n",
       "      <td>4.185139</td>\n",
       "      <td>4.454983</td>\n",
       "    </tr>\n",
       "    <tr>\n",
       "      <th>A03</th>\n",
       "      <td>158.104604</td>\n",
       "      <td>22.02891</td>\n",
       "      <td>0.013302</td>\n",
       "      <td>158.104604</td>\n",
       "      <td>52.730195</td>\n",
       "      <td>42.885822</td>\n",
       "      <td>11.259160</td>\n",
       "      <td>146.845445</td>\n",
       "      <td>39.335875</td>\n",
       "      <td>22.02891</td>\n",
       "      <td>...</td>\n",
       "      <td>0.220570</td>\n",
       "      <td>0.314446</td>\n",
       "      <td>0.566976</td>\n",
       "      <td>0.750980</td>\n",
       "      <td>1.917544</td>\n",
       "      <td>1.574925</td>\n",
       "      <td>2.636769</td>\n",
       "      <td>3.491505</td>\n",
       "      <td>4.107095</td>\n",
       "      <td>4.405701</td>\n",
       "    </tr>\n",
       "    <tr>\n",
       "      <th>A04</th>\n",
       "      <td>148.610349</td>\n",
       "      <td>21.13505</td>\n",
       "      <td>0.153967</td>\n",
       "      <td>169.490066</td>\n",
       "      <td>52.947190</td>\n",
       "      <td>40.735298</td>\n",
       "      <td>11.072086</td>\n",
       "      <td>158.417980</td>\n",
       "      <td>41.251284</td>\n",
       "      <td>22.02937</td>\n",
       "      <td>...</td>\n",
       "      <td>0.220570</td>\n",
       "      <td>0.257292</td>\n",
       "      <td>0.417984</td>\n",
       "      <td>0.603698</td>\n",
       "      <td>1.806336</td>\n",
       "      <td>1.593080</td>\n",
       "      <td>2.736457</td>\n",
       "      <td>3.516927</td>\n",
       "      <td>4.024063</td>\n",
       "      <td>4.280164</td>\n",
       "    </tr>\n",
       "    <tr>\n",
       "      <th>A05</th>\n",
       "      <td>129.941607</td>\n",
       "      <td>16.78825</td>\n",
       "      <td>0.367594</td>\n",
       "      <td>181.684883</td>\n",
       "      <td>68.253222</td>\n",
       "      <td>43.571497</td>\n",
       "      <td>11.010531</td>\n",
       "      <td>170.674352</td>\n",
       "      <td>59.208052</td>\n",
       "      <td>22.02988</td>\n",
       "      <td>...</td>\n",
       "      <td>0.220570</td>\n",
       "      <td>0.220570</td>\n",
       "      <td>0.257292</td>\n",
       "      <td>0.377827</td>\n",
       "      <td>1.348764</td>\n",
       "      <td>1.739515</td>\n",
       "      <td>2.897768</td>\n",
       "      <td>3.783786</td>\n",
       "      <td>4.163782</td>\n",
       "      <td>4.349547</td>\n",
       "    </tr>\n",
       "  </tbody>\n",
       "</table>\n",
       "<p>5 rows × 2367 columns</p>\n",
       "</div>"
      ],
      "text/plain": [
       "     BS10__inflection_point_t  BS10__inflection_point_y  BS10__mue_median  \\\n",
       "A01                 15.502713                   3.93831          1.533980   \n",
       "A02                114.049172                  22.02844          0.512476   \n",
       "A03                158.104604                  22.02891          0.013302   \n",
       "A04                148.610349                  21.13505          0.153967   \n",
       "A05                129.941607                  16.78825          0.367594   \n",
       "\n",
       "      BS10__max  BS10__mean  BS10__median  BS10__min  BS10__span  \\\n",
       "A01   15.589340   13.236223     12.942862  11.786574    3.802765   \n",
       "A02  114.049172   43.789110     37.938058  10.662952  103.386220   \n",
       "A03  158.104604   52.730195     42.885822  11.259160  146.845445   \n",
       "A04  169.490066   52.947190     40.735298  11.072086  158.417980   \n",
       "A05  181.684883   68.253222     43.571497  11.010531  170.674352   \n",
       "\n",
       "     BS10__stan_dev  BS10__time_max  ...  DO_x__fourier_entropy__bins_2  \\\n",
       "A01        1.135330         3.93831  ...                       0.304636   \n",
       "A02       27.608253        22.02844  ...                       0.220570   \n",
       "A03       39.335875        22.02891  ...                       0.220570   \n",
       "A04       41.251284        22.02937  ...                       0.220570   \n",
       "A05       59.208052        22.02988  ...                       0.220570   \n",
       "\n",
       "     DO_x__fourier_entropy__bins_3  DO_x__fourier_entropy__bins_5  \\\n",
       "A01                       0.600166                       1.033562   \n",
       "A02                       0.257292                       0.474328   \n",
       "A03                       0.314446                       0.566976   \n",
       "A04                       0.257292                       0.417984   \n",
       "A05                       0.220570                       0.257292   \n",
       "\n",
       "     DO_x__fourier_entropy__bins_10  DO_x__fourier_entropy__bins_100  \\\n",
       "A01                        1.468140                         2.397895   \n",
       "A02                        0.474328                         1.781950   \n",
       "A03                        0.750980                         1.917544   \n",
       "A04                        0.603698                         1.806336   \n",
       "A05                        0.377827                         1.348764   \n",
       "\n",
       "     DO_x__permutation_entropy__dimension_3__tau_1  \\\n",
       "A01                                       1.613392   \n",
       "A02                                       1.728323   \n",
       "A03                                       1.574925   \n",
       "A04                                       1.593080   \n",
       "A05                                       1.739515   \n",
       "\n",
       "     DO_x__permutation_entropy__dimension_4__tau_1  \\\n",
       "A01                                       2.196756   \n",
       "A02                                       2.901951   \n",
       "A03                                       2.636769   \n",
       "A04                                       2.736457   \n",
       "A05                                       2.897768   \n",
       "\n",
       "     DO_x__permutation_entropy__dimension_5__tau_1  \\\n",
       "A01                                       2.566599   \n",
       "A02                                       3.792271   \n",
       "A03                                       3.491505   \n",
       "A04                                       3.516927   \n",
       "A05                                       3.783786   \n",
       "\n",
       "     DO_x__permutation_entropy__dimension_6__tau_1  \\\n",
       "A01                                       2.615631   \n",
       "A02                                       4.185139   \n",
       "A03                                       4.107095   \n",
       "A04                                       4.024063   \n",
       "A05                                       4.163782   \n",
       "\n",
       "     DO_x__permutation_entropy__dimension_7__tau_1  \n",
       "A01                                       2.639057  \n",
       "A02                                       4.454983  \n",
       "A03                                       4.405701  \n",
       "A04                                       4.280164  \n",
       "A05                                       4.349547  \n",
       "\n",
       "[5 rows x 2367 columns]"
      ]
     },
     "execution_count": 1,
     "metadata": {},
     "output_type": "execute_result"
    }
   ],
   "source": [
    "extracted_features.head()"
   ]
  },
  {
   "cell_type": "markdown",
   "metadata": {},
   "source": [
    "### What's next?\n",
    "Many of the features are redundant.\n",
    "At the same time, many features have `NaN` values, so you should consider to apply `.dropna()` before continuing.\n",
    "\n",
    "Because of the high redundancy of many feature columns, you should consider to apply dimension reduction techniques like `PCA` to continue working with just a small set of non-redundant features.\n",
    "\n",
    "Depending on your dataset, advanced high-dimensional visualization techniques such as t-SNE or UMAP are worth exploring."
   ]
  },
  {
   "cell_type": "code",
   "execution_count": 6,
   "metadata": {
    "execution": {
     "iopub.execute_input": "2021-07-02T19:24:34.787560Z",
     "iopub.status.busy": "2021-07-02T19:24:34.786559Z",
     "iopub.status.idle": "2021-07-02T19:24:34.813442Z",
     "shell.execute_reply": "2021-07-02T19:24:34.812444Z"
    }
   },
   "outputs": [
    {
     "name": "stdout",
     "output_type": "stream",
     "text": [
      "Last updated: Fri Jul 02 2021\n",
      "\n",
      "Python implementation: CPython\n",
      "Python version       : 3.7.9\n",
      "IPython version      : 7.19.0\n",
      "\n",
      "bletl : 1.0.0\n",
      "pandas: 1.2.1\n",
      "\n",
      "Watermark: 2.1.0\n",
      "\n"
     ]
    }
   ],
   "source": [
    "%load_ext watermark\n",
    "%watermark -n -u -v -iv -w"
   ]
  },
  {
   "cell_type": "code",
   "execution_count": null,
   "metadata": {},
   "outputs": [],
   "source": []
  }
 ],
 "metadata": {
  "kernelspec": {
   "display_name": "Python 3",
   "language": "python",
   "name": "python3"
  },
  "language_info": {
   "codemirror_mode": {
    "name": "ipython",
    "version": 3
   },
   "file_extension": ".py",
   "mimetype": "text/x-python",
   "name": "python",
   "nbconvert_exporter": "python",
   "pygments_lexer": "ipython3",
   "version": "3.7.9"
  }
 },
 "nbformat": 4,
 "nbformat_minor": 4
}
