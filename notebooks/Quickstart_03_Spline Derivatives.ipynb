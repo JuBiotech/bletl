{
 "cells": [
  {
   "cell_type": "markdown",
   "metadata": {},
   "source": [
    "# Quickstart: Spline Derivatives\n",
    "In many cases, useful information can be extracted from the slopes of backscatter, DO and pH curves.\n",
    "The problem however is that a naiive implementation of point-to-point differences (e.g. `numpy.diff`) does not account for measurement noise and is therefore very noisy itself.\n",
    "\n",
    "With `bletl_analysis`, we provide a robust implementation for approximating curves by smoothing splines, giving access to a robust estimation of derivatives."
   ]
  },
  {
   "cell_type": "code",
   "execution_count": 1,
   "metadata": {},
   "outputs": [],
   "source": [
    "import ipywidgets\n",
    "import numpy\n",
    "import pandas\n",
    "import pathlib\n",
    "import matplotlib.cm\n",
    "from matplotlib import pyplot\n",
    "import scipy\n",
    "\n",
    "import bletl\n",
    "import bletl_analysis"
   ]
  },
  {
   "cell_type": "markdown",
   "metadata": {},
   "source": [
    "### Parse the raw data file\n",
    "This quickstart uses a raw data file of a process with robotically triggered base and carbon source addition."
   ]
  },
  {
   "cell_type": "code",
   "execution_count": 2,
   "metadata": {},
   "outputs": [],
   "source": [
    "filepath = pathlib.Path(r'..\\bletl\\tests\\data\\BL1\\NT_1200rpm_30C_DO-GFP75-pH-BS10_12min_20171221_121339.csv')\n",
    "bldata = bletl.parse(filepath, lot_number=1515, temp=30)"
   ]
  },
  {
   "cell_type": "markdown",
   "metadata": {},
   "source": [
    "### Plot the data of interest\n",
    "This notebook contains an interactive plot, so you can play around with different well/filterset/method combinations.\n",
    "\n",
    "It also means you may need to execute the notebook to see the result.\n",
    "\n",
    "Make sure to interactively change the `last_cycle` setting and observe how it affects the prediction of the spline.\n",
    "This is important if you want to use the method for at-line analysis and automated triggering."
   ]
  },
  {
   "cell_type": "code",
   "execution_count": 3,
   "metadata": {},
   "outputs": [
    {
     "data": {
      "application/vnd.jupyter.widget-view+json": {
       "model_id": "ffa23d77aa2044569e5a91a3e5a9e6f6",
       "version_major": 2,
       "version_minor": 0
      },
      "text/plain": [
       "interactive(children=(Dropdown(description='method', options=('us', 'ucss'), value='us'), Dropdown(description…"
      ]
     },
     "metadata": {},
     "output_type": "display_data"
    }
   ],
   "source": [
    "def plot_well(method:str, well:str, filterset:str, last_cycle:int=None):\n",
    "    x, y = bldata[filterset].get_timeseries(well, last_cycle=last_cycle)\n",
    "    \n",
    "    spline = bletl_analysis.get_crossvalidated_spline(x, y, method=method, bounds=(0,1.2), k_folds=10)\n",
    "    derivative = spline.derivative(1)\n",
    "    \n",
    "    # plotting\n",
    "    fig, (up, down) = pyplot.subplots(dpi=140, nrows=2, sharex='col')\n",
    "    up.scatter(x, y, s=.4, label='data')\n",
    "    up.plot(x, spline(x), label='spline', linewidth=0.5)\n",
    "    \n",
    "    down.axhline(0, color='gray', linewidth=1, linestyle=':')\n",
    "    d = numpy.linspace(0, x[-1], 1000)\n",
    "    down.plot(d, derivative(d), label='1st derivative')\n",
    "    \n",
    "    # formatting\n",
    "    #down.set_xlim(0, 23)\n",
    "    down.set_xlabel('time   [h]')\n",
    "    down.set_ylabel(f'd{filterset}/dt')\n",
    "    up.set_ylabel(filterset)\n",
    "    up.legend()\n",
    "    \n",
    "    pyplot.show()    \n",
    "    return\n",
    "\n",
    "ipywidgets.interact(\n",
    "    plot_well,\n",
    "    method=['us', 'ucss'],\n",
    "    well=list(bldata['pH'].time.columns),\n",
    "    filterset=list(bldata.keys()),\n",
    "    last_cycle=range(10, len(bldata['pH'].time)+1)\n",
    ");"
   ]
  },
  {
   "cell_type": "code",
   "execution_count": null,
   "metadata": {},
   "outputs": [],
   "source": []
  }
 ],
 "metadata": {
  "kernelspec": {
   "display_name": "Python 3",
   "language": "python",
   "name": "python3"
  },
  "language_info": {
   "codemirror_mode": {
    "name": "ipython",
    "version": 3
   },
   "file_extension": ".py",
   "mimetype": "text/x-python",
   "name": "python",
   "nbconvert_exporter": "python",
   "pygments_lexer": "ipython3",
   "version": "3.7.7"
  },
  "widgets": {
   "application/vnd.jupyter.widget-state+json": {
    "state": {
     "03c8b372da644f5fa5bd5b3c2891c9ab": {
      "model_module": "@jupyter-widgets/base",
      "model_module_version": "1.2.0",
      "model_name": "LayoutModel",
      "state": {}
     },
     "0ce411fb47db4054b85940ee5b560547": {
      "model_module": "@jupyter-widgets/controls",
      "model_module_version": "1.5.0",
      "model_name": "DropdownModel",
      "state": {
       "_options_labels": [
        "10",
        "11",
        "12",
        "13",
        "14",
        "15",
        "16",
        "17",
        "18",
        "19",
        "20",
        "21",
        "22",
        "23",
        "24",
        "25",
        "26",
        "27",
        "28",
        "29",
        "30",
        "31",
        "32",
        "33",
        "34",
        "35",
        "36",
        "37",
        "38",
        "39",
        "40",
        "41",
        "42",
        "43",
        "44",
        "45",
        "46",
        "47",
        "48",
        "49",
        "50",
        "51",
        "52",
        "53",
        "54",
        "55",
        "56",
        "57",
        "58",
        "59",
        "60",
        "61",
        "62",
        "63",
        "64",
        "65",
        "66",
        "67",
        "68",
        "69",
        "70",
        "71",
        "72",
        "73",
        "74",
        "75",
        "76",
        "77",
        "78",
        "79",
        "80",
        "81",
        "82",
        "83",
        "84",
        "85",
        "86",
        "87",
        "88",
        "89",
        "90",
        "91",
        "92",
        "93",
        "94",
        "95",
        "96",
        "97",
        "98",
        "99",
        "100",
        "101",
        "102",
        "103"
       ],
       "description": "last_cycle",
       "index": null,
       "layout": "IPY_MODEL_3266021f3998472ea9a3957b7d375fd7",
       "style": "IPY_MODEL_91d14fdc61a14a8494ca3c7205e4d741"
      }
     },
     "0dfe16e6593e4647a5f2dfe946eeac07": {
      "model_module": "@jupyter-widgets/controls",
      "model_module_version": "1.5.0",
      "model_name": "DropdownModel",
      "state": {
       "_options_labels": [
        "DO",
        "GFP75",
        "pH",
        "BS10"
       ],
       "description": "filterset",
       "index": 0,
       "layout": "IPY_MODEL_a69b48708a7b4ff5b47d8d5bd62c92e0",
       "style": "IPY_MODEL_2544473fc25c462ea54ad6395a9054f4"
      }
     },
     "13e12c9dcce54169b6a3053e747e251d": {
      "model_module": "@jupyter-widgets/controls",
      "model_module_version": "1.5.0",
      "model_name": "DescriptionStyleModel",
      "state": {
       "description_width": ""
      }
     },
     "1743791455d44ab8a8e007ed9522e7ae": {
      "model_module": "@jupyter-widgets/controls",
      "model_module_version": "1.5.0",
      "model_name": "DropdownModel",
      "state": {
       "_options_labels": [
        "us",
        "ucss"
       ],
       "description": "method",
       "index": 0,
       "layout": "IPY_MODEL_03c8b372da644f5fa5bd5b3c2891c9ab",
       "style": "IPY_MODEL_706125dcef4542c0a67d04eba60e892b"
      }
     },
     "174c473ade0242958b2d263ed97fb8e5": {
      "model_module": "@jupyter-widgets/base",
      "model_module_version": "1.2.0",
      "model_name": "LayoutModel",
      "state": {}
     },
     "1c27f75bef7f4df3b8fb64a81bae2a94": {
      "model_module": "@jupyter-widgets/output",
      "model_module_version": "1.0.0",
      "model_name": "OutputModel",
      "state": {
       "layout": "IPY_MODEL_28f7be0063fb4315a6b7cc20f21c0833",
       "outputs": [
        {
         "data": {
          "image/png": "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\n",
          "text/plain": "<Figure size 840x560 with 2 Axes>"
         },
         "metadata": {
          "needs_background": "light"
         },
         "output_type": "display_data"
        }
       ]
      }
     },
     "24da7d0d486d4239a3256579d9755ff8": {
      "model_module": "@jupyter-widgets/controls",
      "model_module_version": "1.5.0",
      "model_name": "DropdownModel",
      "state": {
       "_options_labels": [
        "A01",
        "A02",
        "A03",
        "A04",
        "A05",
        "A06",
        "A07",
        "A08",
        "B01",
        "B02",
        "B03",
        "B04",
        "B05",
        "B06",
        "B07",
        "B08",
        "C01",
        "C02",
        "C03",
        "C04",
        "C05",
        "C06",
        "C07",
        "C08",
        "D01",
        "D02",
        "D03",
        "D04",
        "D05",
        "D06",
        "D07",
        "D08",
        "E01",
        "E02",
        "E03",
        "E04",
        "E05",
        "E06",
        "E07",
        "E08",
        "F01",
        "F02",
        "F03",
        "F04",
        "F05",
        "F06",
        "F07",
        "F08"
       ],
       "description": "well",
       "index": 0,
       "layout": "IPY_MODEL_446daec18345458ba54b00467a68ac2b",
       "style": "IPY_MODEL_d9c84e1361a04debbd440303cd1b7ac3"
      }
     },
     "2544473fc25c462ea54ad6395a9054f4": {
      "model_module": "@jupyter-widgets/controls",
      "model_module_version": "1.5.0",
      "model_name": "DescriptionStyleModel",
      "state": {
       "description_width": ""
      }
     },
     "28008d737e674310afc6ea74aae3e2d4": {
      "model_module": "@jupyter-widgets/base",
      "model_module_version": "1.2.0",
      "model_name": "LayoutModel",
      "state": {}
     },
     "28ebbe7b25af4c74a0cac8132d0c7c2d": {
      "model_module": "@jupyter-widgets/base",
      "model_module_version": "1.2.0",
      "model_name": "LayoutModel",
      "state": {}
     },
     "28f7be0063fb4315a6b7cc20f21c0833": {
      "model_module": "@jupyter-widgets/base",
      "model_module_version": "1.2.0",
      "model_name": "LayoutModel",
      "state": {}
     },
     "30c142d1f6c14f4da1a15c0cb00e21f4": {
      "model_module": "@jupyter-widgets/controls",
      "model_module_version": "1.5.0",
      "model_name": "DropdownModel",
      "state": {
       "_options_labels": [
        "A01",
        "A02",
        "A03",
        "A04",
        "A05",
        "A06",
        "A07",
        "A08",
        "B01",
        "B02",
        "B03",
        "B04",
        "B05",
        "B06",
        "B07",
        "B08",
        "C01",
        "C02",
        "C03",
        "C04",
        "C05",
        "C06",
        "C07",
        "C08",
        "D01",
        "D02",
        "D03",
        "D04",
        "D05",
        "D06",
        "D07",
        "D08",
        "E01",
        "E02",
        "E03",
        "E04",
        "E05",
        "E06",
        "E07",
        "E08",
        "F01",
        "F02",
        "F03",
        "F04",
        "F05",
        "F06",
        "F07",
        "F08"
       ],
       "description": "well",
       "index": 0,
       "layout": "IPY_MODEL_94ba4acbd67a49508ffd5e0447352eca",
       "style": "IPY_MODEL_13e12c9dcce54169b6a3053e747e251d"
      }
     },
     "315c8fc5ea164a368b1cb143323efc55": {
      "model_module": "@jupyter-widgets/base",
      "model_module_version": "1.2.0",
      "model_name": "LayoutModel",
      "state": {}
     },
     "3266021f3998472ea9a3957b7d375fd7": {
      "model_module": "@jupyter-widgets/base",
      "model_module_version": "1.2.0",
      "model_name": "LayoutModel",
      "state": {}
     },
     "3a0371ce79bf4430ba067356dbd9c5c2": {
      "model_module": "@jupyter-widgets/base",
      "model_module_version": "1.2.0",
      "model_name": "LayoutModel",
      "state": {}
     },
     "41acda1c0d7548e487e05841adbc38ef": {
      "model_module": "@jupyter-widgets/base",
      "model_module_version": "1.2.0",
      "model_name": "LayoutModel",
      "state": {}
     },
     "446daec18345458ba54b00467a68ac2b": {
      "model_module": "@jupyter-widgets/base",
      "model_module_version": "1.2.0",
      "model_name": "LayoutModel",
      "state": {}
     },
     "5a4ab7723d9a4a6ebb83d83c510b9395": {
      "model_module": "@jupyter-widgets/output",
      "model_module_version": "1.0.0",
      "model_name": "OutputModel",
      "state": {
       "layout": "IPY_MODEL_db05bf778af740468e7d068cfeaac02b",
       "outputs": [
        {
         "data": {
          "image/png": "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\n",
          "text/plain": "<Figure size 840x560 with 2 Axes>"
         },
         "metadata": {
          "needs_background": "light"
         },
         "output_type": "display_data"
        }
       ]
      }
     },
     "63d16a7e1c0d4c60816910f72ef7a94d": {
      "model_module": "@jupyter-widgets/controls",
      "model_module_version": "1.5.0",
      "model_name": "DescriptionStyleModel",
      "state": {
       "description_width": ""
      }
     },
     "643f1ce657684947bef4a8daf99d7703": {
      "model_module": "@jupyter-widgets/base",
      "model_module_version": "1.2.0",
      "model_name": "LayoutModel",
      "state": {}
     },
     "6998dd167c6142068eb19c5a3629076c": {
      "model_module": "@jupyter-widgets/controls",
      "model_module_version": "1.5.0",
      "model_name": "DropdownModel",
      "state": {
       "_options_labels": [
        "A01",
        "A02",
        "A03",
        "A04",
        "A05",
        "A06",
        "A07",
        "A08",
        "B01",
        "B02",
        "B03",
        "B04",
        "B05",
        "B06",
        "B07",
        "B08",
        "C01",
        "C02",
        "C03",
        "C04",
        "C05",
        "C06",
        "C07",
        "C08",
        "D01",
        "D02",
        "D03",
        "D04",
        "D05",
        "D06",
        "D07",
        "D08",
        "E01",
        "E02",
        "E03",
        "E04",
        "E05",
        "E06",
        "E07",
        "E08",
        "F01",
        "F02",
        "F03",
        "F04",
        "F05",
        "F06",
        "F07",
        "F08"
       ],
       "description": "well",
       "index": 0,
       "layout": "IPY_MODEL_7800c7b97f854f1f8a132b0b4d2ad1f5",
       "style": "IPY_MODEL_aebcc2c8af2940c69c8c6368f46e5dcd"
      }
     },
     "706125dcef4542c0a67d04eba60e892b": {
      "model_module": "@jupyter-widgets/controls",
      "model_module_version": "1.5.0",
      "model_name": "DescriptionStyleModel",
      "state": {
       "description_width": ""
      }
     },
     "72dd323e2e0d4ee4bf32f62ec1d6f2db": {
      "model_module": "@jupyter-widgets/base",
      "model_module_version": "1.2.0",
      "model_name": "LayoutModel",
      "state": {}
     },
     "734b0363b15e46d8966083ce20b1521c": {
      "model_module": "@jupyter-widgets/controls",
      "model_module_version": "1.5.0",
      "model_name": "DropdownModel",
      "state": {
       "_options_labels": [
        "DO",
        "GFP75",
        "pH",
        "BS10"
       ],
       "description": "filterset",
       "index": 0,
       "layout": "IPY_MODEL_28ebbe7b25af4c74a0cac8132d0c7c2d",
       "style": "IPY_MODEL_c0658036bb794848bbf7411470adc4fd"
      }
     },
     "7800c7b97f854f1f8a132b0b4d2ad1f5": {
      "model_module": "@jupyter-widgets/base",
      "model_module_version": "1.2.0",
      "model_name": "LayoutModel",
      "state": {}
     },
     "826d537a55ba495b8805c707e7d78da8": {
      "model_module": "@jupyter-widgets/controls",
      "model_module_version": "1.5.0",
      "model_name": "DropdownModel",
      "state": {
       "_options_labels": [
        "10",
        "11",
        "12",
        "13",
        "14",
        "15",
        "16",
        "17",
        "18",
        "19",
        "20",
        "21",
        "22",
        "23",
        "24",
        "25",
        "26",
        "27",
        "28",
        "29",
        "30",
        "31",
        "32",
        "33",
        "34",
        "35",
        "36",
        "37",
        "38",
        "39",
        "40",
        "41",
        "42",
        "43",
        "44",
        "45",
        "46",
        "47",
        "48",
        "49",
        "50",
        "51",
        "52",
        "53",
        "54",
        "55",
        "56",
        "57",
        "58",
        "59",
        "60",
        "61",
        "62",
        "63",
        "64",
        "65",
        "66",
        "67",
        "68",
        "69",
        "70",
        "71",
        "72",
        "73",
        "74",
        "75",
        "76",
        "77",
        "78",
        "79",
        "80",
        "81",
        "82",
        "83",
        "84",
        "85",
        "86",
        "87",
        "88",
        "89",
        "90",
        "91",
        "92",
        "93",
        "94",
        "95",
        "96",
        "97",
        "98",
        "99",
        "100",
        "101",
        "102",
        "103"
       ],
       "description": "last_cycle",
       "index": null,
       "layout": "IPY_MODEL_ef1cfb5a6a604c14b44128e2c7b6dc7b",
       "style": "IPY_MODEL_99f389c5d3e74d1e99ceae0e855752fb"
      }
     },
     "88230bf555af4636ad02bb8450379868": {
      "model_module": "@jupyter-widgets/base",
      "model_module_version": "1.2.0",
      "model_name": "LayoutModel",
      "state": {}
     },
     "90866a352f7a4da5afbf737bd2ac3c80": {
      "model_module": "@jupyter-widgets/controls",
      "model_module_version": "1.5.0",
      "model_name": "DropdownModel",
      "state": {
       "_options_labels": [
        "10",
        "11",
        "12",
        "13",
        "14",
        "15",
        "16",
        "17",
        "18",
        "19",
        "20",
        "21",
        "22",
        "23",
        "24",
        "25",
        "26",
        "27",
        "28",
        "29",
        "30",
        "31",
        "32",
        "33",
        "34",
        "35",
        "36",
        "37",
        "38",
        "39",
        "40",
        "41",
        "42",
        "43",
        "44",
        "45",
        "46",
        "47",
        "48",
        "49",
        "50",
        "51",
        "52",
        "53",
        "54",
        "55",
        "56",
        "57",
        "58",
        "59",
        "60",
        "61",
        "62",
        "63",
        "64",
        "65",
        "66",
        "67",
        "68",
        "69",
        "70",
        "71",
        "72",
        "73",
        "74",
        "75",
        "76",
        "77",
        "78",
        "79",
        "80",
        "81",
        "82",
        "83",
        "84",
        "85",
        "86",
        "87",
        "88",
        "89",
        "90",
        "91",
        "92",
        "93",
        "94",
        "95",
        "96",
        "97",
        "98",
        "99",
        "100",
        "101",
        "102",
        "103"
       ],
       "description": "last_cycle",
       "index": null,
       "layout": "IPY_MODEL_315c8fc5ea164a368b1cb143323efc55",
       "style": "IPY_MODEL_c0ff359ab22d45d1a2a9bf7b1c1928d4"
      }
     },
     "90a419eab4ce42b5beb3d07e5b9b7bad": {
      "model_module": "@jupyter-widgets/controls",
      "model_module_version": "1.5.0",
      "model_name": "DropdownModel",
      "state": {
       "_options_labels": [
        "us",
        "ucss"
       ],
       "description": "method",
       "index": 0,
       "layout": "IPY_MODEL_28008d737e674310afc6ea74aae3e2d4",
       "style": "IPY_MODEL_de3cdafd209c4eb8b30b66eb370985df"
      }
     },
     "91d14fdc61a14a8494ca3c7205e4d741": {
      "model_module": "@jupyter-widgets/controls",
      "model_module_version": "1.5.0",
      "model_name": "DescriptionStyleModel",
      "state": {
       "description_width": ""
      }
     },
     "94ba4acbd67a49508ffd5e0447352eca": {
      "model_module": "@jupyter-widgets/base",
      "model_module_version": "1.2.0",
      "model_name": "LayoutModel",
      "state": {}
     },
     "990e6e367a9f4b729cb9d75a65f7f874": {
      "model_module": "@jupyter-widgets/controls",
      "model_module_version": "1.5.0",
      "model_name": "DropdownModel",
      "state": {
       "_options_labels": [
        "DO",
        "GFP75",
        "pH",
        "BS10"
       ],
       "description": "filterset",
       "index": 2,
       "layout": "IPY_MODEL_88230bf555af4636ad02bb8450379868",
       "style": "IPY_MODEL_63d16a7e1c0d4c60816910f72ef7a94d"
      }
     },
     "9938c556cf3044b393b6f9747167de38": {
      "model_module": "@jupyter-widgets/output",
      "model_module_version": "1.0.0",
      "model_name": "OutputModel",
      "state": {
       "layout": "IPY_MODEL_643f1ce657684947bef4a8daf99d7703",
       "outputs": [
        {
         "data": {
          "image/png": "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\n",
          "text/plain": "<Figure size 840x560 with 2 Axes>"
         },
         "metadata": {
          "needs_background": "light"
         },
         "output_type": "display_data"
        }
       ]
      }
     },
     "994cbcde037d4bdd8957813c4b5861c9": {
      "model_module": "@jupyter-widgets/controls",
      "model_module_version": "1.5.0",
      "model_name": "DropdownModel",
      "state": {
       "_options_labels": [
        "us",
        "ucss"
       ],
       "description": "method",
       "index": 0,
       "layout": "IPY_MODEL_72dd323e2e0d4ee4bf32f62ec1d6f2db",
       "style": "IPY_MODEL_ce7dd4da4632458d872a8430ba1a0d75"
      }
     },
     "99f389c5d3e74d1e99ceae0e855752fb": {
      "model_module": "@jupyter-widgets/controls",
      "model_module_version": "1.5.0",
      "model_name": "DescriptionStyleModel",
      "state": {
       "description_width": ""
      }
     },
     "a69b48708a7b4ff5b47d8d5bd62c92e0": {
      "model_module": "@jupyter-widgets/base",
      "model_module_version": "1.2.0",
      "model_name": "LayoutModel",
      "state": {}
     },
     "ab1037cfebd74ecb86175977cb249f33": {
      "model_module": "@jupyter-widgets/controls",
      "model_module_version": "1.5.0",
      "model_name": "VBoxModel",
      "state": {
       "_dom_classes": [
        "widget-interact"
       ],
       "children": [
        "IPY_MODEL_1743791455d44ab8a8e007ed9522e7ae",
        "IPY_MODEL_30c142d1f6c14f4da1a15c0cb00e21f4",
        "IPY_MODEL_734b0363b15e46d8966083ce20b1521c",
        "IPY_MODEL_826d537a55ba495b8805c707e7d78da8",
        "IPY_MODEL_1c27f75bef7f4df3b8fb64a81bae2a94"
       ],
       "layout": "IPY_MODEL_41acda1c0d7548e487e05841adbc38ef"
      }
     },
     "aebcc2c8af2940c69c8c6368f46e5dcd": {
      "model_module": "@jupyter-widgets/controls",
      "model_module_version": "1.5.0",
      "model_name": "DescriptionStyleModel",
      "state": {
       "description_width": ""
      }
     },
     "c0658036bb794848bbf7411470adc4fd": {
      "model_module": "@jupyter-widgets/controls",
      "model_module_version": "1.5.0",
      "model_name": "DescriptionStyleModel",
      "state": {
       "description_width": ""
      }
     },
     "c0ff359ab22d45d1a2a9bf7b1c1928d4": {
      "model_module": "@jupyter-widgets/controls",
      "model_module_version": "1.5.0",
      "model_name": "DescriptionStyleModel",
      "state": {
       "description_width": ""
      }
     },
     "ce7dd4da4632458d872a8430ba1a0d75": {
      "model_module": "@jupyter-widgets/controls",
      "model_module_version": "1.5.0",
      "model_name": "DescriptionStyleModel",
      "state": {
       "description_width": ""
      }
     },
     "d9c84e1361a04debbd440303cd1b7ac3": {
      "model_module": "@jupyter-widgets/controls",
      "model_module_version": "1.5.0",
      "model_name": "DescriptionStyleModel",
      "state": {
       "description_width": ""
      }
     },
     "db05bf778af740468e7d068cfeaac02b": {
      "model_module": "@jupyter-widgets/base",
      "model_module_version": "1.2.0",
      "model_name": "LayoutModel",
      "state": {}
     },
     "de3cdafd209c4eb8b30b66eb370985df": {
      "model_module": "@jupyter-widgets/controls",
      "model_module_version": "1.5.0",
      "model_name": "DescriptionStyleModel",
      "state": {
       "description_width": ""
      }
     },
     "ef1cfb5a6a604c14b44128e2c7b6dc7b": {
      "model_module": "@jupyter-widgets/base",
      "model_module_version": "1.2.0",
      "model_name": "LayoutModel",
      "state": {}
     },
     "f8be6ce3d4bd4d9294697770c007b553": {
      "model_module": "@jupyter-widgets/controls",
      "model_module_version": "1.5.0",
      "model_name": "VBoxModel",
      "state": {
       "_dom_classes": [
        "widget-interact"
       ],
       "children": [
        "IPY_MODEL_90a419eab4ce42b5beb3d07e5b9b7bad",
        "IPY_MODEL_6998dd167c6142068eb19c5a3629076c",
        "IPY_MODEL_990e6e367a9f4b729cb9d75a65f7f874",
        "IPY_MODEL_90866a352f7a4da5afbf737bd2ac3c80",
        "IPY_MODEL_9938c556cf3044b393b6f9747167de38"
       ],
       "layout": "IPY_MODEL_174c473ade0242958b2d263ed97fb8e5"
      }
     },
     "ffa23d77aa2044569e5a91a3e5a9e6f6": {
      "model_module": "@jupyter-widgets/controls",
      "model_module_version": "1.5.0",
      "model_name": "VBoxModel",
      "state": {
       "_dom_classes": [
        "widget-interact"
       ],
       "children": [
        "IPY_MODEL_994cbcde037d4bdd8957813c4b5861c9",
        "IPY_MODEL_24da7d0d486d4239a3256579d9755ff8",
        "IPY_MODEL_0dfe16e6593e4647a5f2dfe946eeac07",
        "IPY_MODEL_0ce411fb47db4054b85940ee5b560547",
        "IPY_MODEL_5a4ab7723d9a4a6ebb83d83c510b9395"
       ],
       "layout": "IPY_MODEL_3a0371ce79bf4430ba067356dbd9c5c2"
      }
     }
    },
    "version_major": 2,
    "version_minor": 0
   }
  }
 },
 "nbformat": 4,
 "nbformat_minor": 2
}
